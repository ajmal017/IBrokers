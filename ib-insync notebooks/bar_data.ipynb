{
 "cells": [
  {
   "cell_type": "markdown",
   "metadata": {},
   "source": [
    "# Bar data"
   ]
  },
  {
   "cell_type": "code",
   "execution_count": 1,
   "metadata": {},
   "outputs": [
    {
     "name": "stderr",
     "output_type": "stream",
     "text": [
      "ERROR:ib_insync.wrapper:Error 321, reqId 1: Error validating request:-'aS' : cause - ALL account is not supported\n"
     ]
    },
    {
     "data": {
      "text/plain": [
       "<IB connected to 127.0.0.1:4002 clientId=4>"
      ]
     },
     "execution_count": 1,
     "metadata": {},
     "output_type": "execute_result"
    }
   ],
   "source": [
    "from ib_insync import *\n",
    "util.startLoop()\n",
    "\n",
    "ib = IB()\n",
    "ib.connect('127.0.0.1', 4002, clientId=4)"
   ]
  },
  {
   "cell_type": "markdown",
   "metadata": {},
   "source": [
    "## Historical data"
   ]
  },
  {
   "cell_type": "markdown",
   "metadata": {},
   "source": [
    "To get the earliest date of available bar data the \"head timestamp\" can be requested:"
   ]
  },
  {
   "cell_type": "code",
   "execution_count": 2,
   "metadata": {},
   "outputs": [
    {
     "data": {
      "text/plain": [
       "datetime.datetime(2010, 6, 29, 8, 0)"
      ]
     },
     "execution_count": 2,
     "metadata": {},
     "output_type": "execute_result"
    }
   ],
   "source": [
    "contract = Stock('TSLA', 'SMART', 'USD')\n",
    "\n",
    "ib.reqHeadTimeStamp(contract, whatToShow='TRADES', useRTH=True)"
   ]
  },
  {
   "cell_type": "markdown",
   "metadata": {},
   "source": [
    "To request hourly data of the last 60 trading days:"
   ]
  },
  {
   "cell_type": "code",
   "execution_count": 3,
   "metadata": {},
   "outputs": [],
   "source": [
    "bars = ib.reqHistoricalData(\n",
    "        contract,\n",
    "        endDateTime='',\n",
    "        durationStr='60 D',\n",
    "        barSizeSetting='1 hour',\n",
    "        whatToShow='TRADES',\n",
    "        useRTH=True,\n",
    "        formatDate=1)"
   ]
  },
  {
   "cell_type": "code",
   "execution_count": 4,
   "metadata": {},
   "outputs": [
    {
     "data": {
      "text/plain": [
       "BarData(date=datetime.datetime(2018, 3, 28, 21, 30), open=264.58, high=268.68, low=260.89, close=267.97, volume=29850, barCount=17021, average=265.264)"
      ]
     },
     "execution_count": 4,
     "metadata": {},
     "output_type": "execute_result"
    }
   ],
   "source": [
    "bars[0]"
   ]
  },
  {
   "cell_type": "code",
   "execution_count": 5,
   "metadata": {},
   "outputs": [
    {
     "data": {
      "text/plain": [
       "420"
      ]
     },
     "execution_count": 5,
     "metadata": {},
     "output_type": "execute_result"
    }
   ],
   "source": [
    "len(bars)"
   ]
  },
  {
   "cell_type": "markdown",
   "metadata": {},
   "source": [
    "Convert the list of bars to a data frame and print the first and last rows:"
   ]
  },
  {
   "cell_type": "code",
   "execution_count": 6,
   "metadata": {},
   "outputs": [
    {
     "data": {
      "text/html": [
       "<div>\n",
       "<style scoped>\n",
       "    .dataframe tbody tr th:only-of-type {\n",
       "        vertical-align: middle;\n",
       "    }\n",
       "\n",
       "    .dataframe tbody tr th {\n",
       "        vertical-align: top;\n",
       "    }\n",
       "\n",
       "    .dataframe thead th {\n",
       "        text-align: right;\n",
       "    }\n",
       "</style>\n",
       "<table border=\"1\" class=\"dataframe\">\n",
       "  <thead>\n",
       "    <tr style=\"text-align: right;\">\n",
       "      <th></th>\n",
       "      <th>date</th>\n",
       "      <th>open</th>\n",
       "      <th>high</th>\n",
       "      <th>low</th>\n",
       "      <th>close</th>\n",
       "      <th>volume</th>\n",
       "      <th>barCount</th>\n",
       "      <th>average</th>\n",
       "    </tr>\n",
       "  </thead>\n",
       "  <tbody>\n",
       "    <tr>\n",
       "      <th>0</th>\n",
       "      <td>2018-03-28 21:30:00</td>\n",
       "      <td>264.58</td>\n",
       "      <td>268.68</td>\n",
       "      <td>260.89</td>\n",
       "      <td>267.97</td>\n",
       "      <td>29850</td>\n",
       "      <td>17021</td>\n",
       "      <td>265.264</td>\n",
       "    </tr>\n",
       "    <tr>\n",
       "      <th>1</th>\n",
       "      <td>2018-03-28 22:00:00</td>\n",
       "      <td>267.84</td>\n",
       "      <td>268.29</td>\n",
       "      <td>254.80</td>\n",
       "      <td>257.60</td>\n",
       "      <td>34053</td>\n",
       "      <td>20462</td>\n",
       "      <td>261.071</td>\n",
       "    </tr>\n",
       "    <tr>\n",
       "      <th>2</th>\n",
       "      <td>2018-03-28 23:00:00</td>\n",
       "      <td>257.48</td>\n",
       "      <td>261.50</td>\n",
       "      <td>252.10</td>\n",
       "      <td>260.31</td>\n",
       "      <td>29388</td>\n",
       "      <td>18033</td>\n",
       "      <td>256.910</td>\n",
       "    </tr>\n",
       "    <tr>\n",
       "      <th>3</th>\n",
       "      <td>2018-03-29 00:00:00</td>\n",
       "      <td>260.44</td>\n",
       "      <td>265.71</td>\n",
       "      <td>257.13</td>\n",
       "      <td>257.71</td>\n",
       "      <td>20819</td>\n",
       "      <td>11841</td>\n",
       "      <td>261.847</td>\n",
       "    </tr>\n",
       "    <tr>\n",
       "      <th>4</th>\n",
       "      <td>2018-03-29 01:00:00</td>\n",
       "      <td>257.60</td>\n",
       "      <td>261.23</td>\n",
       "      <td>255.81</td>\n",
       "      <td>258.42</td>\n",
       "      <td>11333</td>\n",
       "      <td>6452</td>\n",
       "      <td>258.203</td>\n",
       "    </tr>\n",
       "  </tbody>\n",
       "</table>\n",
       "</div>"
      ],
      "text/plain": [
       "                 date    open    high     low   close  volume  barCount  \\\n",
       "0 2018-03-28 21:30:00  264.58  268.68  260.89  267.97   29850     17021   \n",
       "1 2018-03-28 22:00:00  267.84  268.29  254.80  257.60   34053     20462   \n",
       "2 2018-03-28 23:00:00  257.48  261.50  252.10  260.31   29388     18033   \n",
       "3 2018-03-29 00:00:00  260.44  265.71  257.13  257.71   20819     11841   \n",
       "4 2018-03-29 01:00:00  257.60  261.23  255.81  258.42   11333      6452   \n",
       "\n",
       "   average  \n",
       "0  265.264  \n",
       "1  261.071  \n",
       "2  256.910  \n",
       "3  261.847  \n",
       "4  258.203  "
      ]
     },
     "metadata": {},
     "output_type": "display_data"
    },
    {
     "data": {
      "text/html": [
       "<div>\n",
       "<style scoped>\n",
       "    .dataframe tbody tr th:only-of-type {\n",
       "        vertical-align: middle;\n",
       "    }\n",
       "\n",
       "    .dataframe tbody tr th {\n",
       "        vertical-align: top;\n",
       "    }\n",
       "\n",
       "    .dataframe thead th {\n",
       "        text-align: right;\n",
       "    }\n",
       "</style>\n",
       "<table border=\"1\" class=\"dataframe\">\n",
       "  <thead>\n",
       "    <tr style=\"text-align: right;\">\n",
       "      <th></th>\n",
       "      <th>date</th>\n",
       "      <th>open</th>\n",
       "      <th>high</th>\n",
       "      <th>low</th>\n",
       "      <th>close</th>\n",
       "      <th>volume</th>\n",
       "      <th>barCount</th>\n",
       "      <th>average</th>\n",
       "    </tr>\n",
       "  </thead>\n",
       "  <tbody>\n",
       "    <tr>\n",
       "      <th>415</th>\n",
       "      <td>2018-06-21 23:00:00</td>\n",
       "      <td>351.00</td>\n",
       "      <td>355.93</td>\n",
       "      <td>350.15</td>\n",
       "      <td>354.00</td>\n",
       "      <td>9619</td>\n",
       "      <td>4856</td>\n",
       "      <td>353.243</td>\n",
       "    </tr>\n",
       "    <tr>\n",
       "      <th>416</th>\n",
       "      <td>2018-06-22 00:00:00</td>\n",
       "      <td>353.94</td>\n",
       "      <td>354.40</td>\n",
       "      <td>351.15</td>\n",
       "      <td>351.65</td>\n",
       "      <td>4066</td>\n",
       "      <td>2171</td>\n",
       "      <td>352.528</td>\n",
       "    </tr>\n",
       "    <tr>\n",
       "      <th>417</th>\n",
       "      <td>2018-06-22 01:00:00</td>\n",
       "      <td>351.66</td>\n",
       "      <td>352.97</td>\n",
       "      <td>350.66</td>\n",
       "      <td>351.01</td>\n",
       "      <td>3050</td>\n",
       "      <td>1614</td>\n",
       "      <td>351.774</td>\n",
       "    </tr>\n",
       "    <tr>\n",
       "      <th>418</th>\n",
       "      <td>2018-06-22 02:00:00</td>\n",
       "      <td>351.07</td>\n",
       "      <td>351.50</td>\n",
       "      <td>348.16</td>\n",
       "      <td>348.28</td>\n",
       "      <td>5656</td>\n",
       "      <td>3252</td>\n",
       "      <td>349.766</td>\n",
       "    </tr>\n",
       "    <tr>\n",
       "      <th>419</th>\n",
       "      <td>2018-06-22 03:00:00</td>\n",
       "      <td>348.22</td>\n",
       "      <td>349.11</td>\n",
       "      <td>346.27</td>\n",
       "      <td>347.50</td>\n",
       "      <td>11290</td>\n",
       "      <td>6756</td>\n",
       "      <td>347.432</td>\n",
       "    </tr>\n",
       "  </tbody>\n",
       "</table>\n",
       "</div>"
      ],
      "text/plain": [
       "                   date    open    high     low   close  volume  barCount  \\\n",
       "415 2018-06-21 23:00:00  351.00  355.93  350.15  354.00    9619      4856   \n",
       "416 2018-06-22 00:00:00  353.94  354.40  351.15  351.65    4066      2171   \n",
       "417 2018-06-22 01:00:00  351.66  352.97  350.66  351.01    3050      1614   \n",
       "418 2018-06-22 02:00:00  351.07  351.50  348.16  348.28    5656      3252   \n",
       "419 2018-06-22 03:00:00  348.22  349.11  346.27  347.50   11290      6756   \n",
       "\n",
       "     average  \n",
       "415  353.243  \n",
       "416  352.528  \n",
       "417  351.774  \n",
       "418  349.766  \n",
       "419  347.432  "
      ]
     },
     "metadata": {},
     "output_type": "display_data"
    }
   ],
   "source": [
    "df = util.df(bars)\n",
    "\n",
    "display(df.head())\n",
    "display(df.tail())"
   ]
  },
  {
   "cell_type": "markdown",
   "metadata": {},
   "source": [
    "Instruct the notebook to draw plot graphics inline:"
   ]
  },
  {
   "cell_type": "code",
   "execution_count": 7,
   "metadata": {},
   "outputs": [],
   "source": [
    "%matplotlib inline\n",
    "import matplotlib.pyplot as plt"
   ]
  },
  {
   "cell_type": "markdown",
   "metadata": {},
   "source": [
    "Plot the close data"
   ]
  },
  {
   "cell_type": "code",
   "execution_count": 8,
   "metadata": {},
   "outputs": [
    {
     "data": {
      "text/plain": [
       "[<matplotlib.lines.Line2D at 0x114efd160>]"
      ]
     },
     "execution_count": 8,
     "metadata": {},
     "output_type": "execute_result"
    },
    {
     "data": {
      "image/png": "[encoded data removed]",
      "text/plain": [
       "<Figure size 432x288 with 1 Axes>"
      ]
     },
     "metadata": {},
     "output_type": "display_data"
    }
   ],
   "source": [
    "plt.plot(df['close'])"
   ]
  },
  {
   "cell_type": "markdown",
   "metadata": {
    "collapsed": true
   },
   "source": [
    "There is also a utility function to plot bars as a candlestick plot. It can accept either a DataFrame or a list of bars. Here it will print the last 100 bars:"
   ]
  },
  {
   "cell_type": "code",
   "execution_count": 9,
   "metadata": {
    "scrolled": false
   },
   "outputs": [
    {
     "data": {
      "image/png": "[encoded data removed]",
      "text/plain": [
       "<Figure size 720x432 with 1 Axes>"
      ]
     },
     "metadata": {},
     "output_type": "display_data"
    }
   ],
   "source": [
    "util.barplot(bars[-100:], title=contract.symbol);"
   ]
  },
  {
   "cell_type": "markdown",
   "metadata": {},
   "source": [
    "## Historical data with realtime updates\n",
    "\n",
    "A new feature of the API is to get live updates for historical bars. This is done by setting `endDateTime` to an empty string and the `keepUpToDate` parameter to `True`.\n",
    "\n",
    "Let's get some bars with an keepUpToDate subscription:"
   ]
  },
  {
   "cell_type": "code",
   "execution_count": 17,
   "metadata": {},
   "outputs": [],
   "source": [
    "# contract = Forex('AUDUSD')\n",
    "contract = Stock('TSLA', 'SMART', 'USD')\n",
    "\n",
    "bars = ib.reqHistoricalData(\n",
    "        contract,\n",
    "        endDateTime='',\n",
    "        durationStr='60 D',\n",
    "        barSizeSetting='1 hour',\n",
    "        whatToShow='TRADES',\n",
    "        useRTH=True,\n",
    "        formatDate=1)"
   ]
  },
  {
   "cell_type": "code",
   "execution_count": 18,
   "metadata": {},
   "outputs": [
    {
     "data": {
      "text/plain": [
       "BarData(date=datetime.datetime(2018, 3, 28, 21, 30), open=264.58, high=268.68, low=260.89, close=267.97, volume=29850, barCount=17021, average=265.264)"
      ]
     },
     "execution_count": 18,
     "metadata": {},
     "output_type": "execute_result"
    }
   ],
   "source": [
    "bars[0]"
   ]
  },
  {
   "cell_type": "code",
   "execution_count": 19,
   "metadata": {},
   "outputs": [],
   "source": [
    "bars = ib.reqHistoricalData(\n",
    "        contract,\n",
    "        endDateTime='',\n",
    "        durationStr='900 S',\n",
    "        barSizeSetting='10 secs',\n",
    "        whatToShow='MIDPOINT',\n",
    "        useRTH=False,\n",
    "        formatDate=1,\n",
    "        keepUpToDate=True)"
   ]
  },
  {
   "cell_type": "markdown",
   "metadata": {},
   "source": [
    "Replot for every change of the last bar:"
   ]
  },
  {
   "cell_type": "code",
   "execution_count": 20,
   "metadata": {
    "scrolled": true
   },
   "outputs": [
    {
     "name": "stderr",
     "output_type": "stream",
     "text": [
      "ERROR:ib_insync.wrapper:Error 366, reqId 10: No historical data query found for ticker id:10\n"
     ]
    }
   ],
   "source": [
    "from IPython.display import display, clear_output\n",
    "import matplotlib.pyplot as plt\n",
    "\n",
    "def onBarUpdate(bars, hasNewBar):\n",
    "    plt.close()\n",
    "    plot = util.barplot(bars)\n",
    "    clear_output(wait=True)\n",
    "    display(plot)\n",
    "\n",
    "ib.setCallback('barUpdate', onBarUpdate)\n",
    "ib.sleep(10)\n",
    "ib.cancelHistoricalData(bars)"
   ]
  },
  {
   "cell_type": "markdown",
   "metadata": {},
   "source": [
    "Realtime bars\n",
    "------------------\n",
    "\n",
    "With ``reqRealTimeBars`` a subscription is started that sends a new bar every 5 seconds.\n",
    "\n",
    "First we'll set up a callback for bar updates:"
   ]
  },
  {
   "cell_type": "code",
   "execution_count": 25,
   "metadata": {},
   "outputs": [],
   "source": [
    "contract = Forex('EURUSD')"
   ]
  },
  {
   "cell_type": "code",
   "execution_count": 26,
   "metadata": {},
   "outputs": [],
   "source": [
    "def onBarUpdate(bars, hasNewBar):\n",
    "    print(bars[-1])\n",
    "\n",
    "ib.setCallback('barUpdate', onBarUpdate)"
   ]
  },
  {
   "cell_type": "markdown",
   "metadata": {},
   "source": [
    "Then do the real request,"
   ]
  },
  {
   "cell_type": "code",
   "execution_count": 27,
   "metadata": {},
   "outputs": [
    {
     "name": "stdout",
     "output_type": "stream",
     "text": [
      "RealTimeBar(time=datetime.datetime(2018, 6, 22, 13, 39, 45), open=1.162845, high=1.162845, low=1.16284, close=1.16284, volume=-1, wap=-1.0, count=-1)\n",
      "RealTimeBar(time=datetime.datetime(2018, 6, 22, 13, 39, 50), open=1.16284, high=1.16284, low=1.16281, close=1.16283, volume=-1, wap=-1.0, count=-1)\n"
     ]
    }
   ],
   "source": [
    "bars = ib.reqRealTimeBars(contract, 5, 'MIDPOINT', False)"
   ]
  },
  {
   "cell_type": "markdown",
   "metadata": {},
   "source": [
    "let it run for half a minute and then cancel the realtime bars."
   ]
  },
  {
   "cell_type": "code",
   "execution_count": 28,
   "metadata": {},
   "outputs": [
    {
     "name": "stdout",
     "output_type": "stream",
     "text": [
      "RealTimeBar(time=datetime.datetime(2018, 6, 22, 13, 39, 55), open=1.16283, high=1.162845, low=1.162825, close=1.162835, volume=-1, wap=-1.0, count=-1)\n",
      "RealTimeBar(time=datetime.datetime(2018, 6, 22, 13, 40), open=1.162835, high=1.162875, low=1.162835, close=1.162865, volume=-1, wap=-1.0, count=-1)\n"
     ]
    }
   ],
   "source": [
    "ib.sleep(10)\n",
    "ib.cancelRealTimeBars(bars)"
   ]
  },
  {
   "cell_type": "code",
   "execution_count": 24,
   "metadata": {},
   "outputs": [
    {
     "data": {
      "text/plain": [
       "[]"
      ]
     },
     "execution_count": 24,
     "metadata": {},
     "output_type": "execute_result"
    }
   ],
   "source": [
    "bars"
   ]
  },
  {
   "cell_type": "markdown",
   "metadata": {},
   "source": [
    "The advantage of reqRealTimeBars is that it behaves more robust when the connection to the IB server farms is interrupted. After the connection is restored, the bars from during the network outage will be backfilled and the live bars will resume.\n",
    "\n",
    "reqHistoricalData + keepUpToDate will, at the moment of writing, leave the whole API inoperable after a network interruption."
   ]
  },
  {
   "cell_type": "code",
   "execution_count": 29,
   "metadata": {},
   "outputs": [],
   "source": [
    "ib.disconnect()"
   ]
  },
  {
   "cell_type": "markdown",
   "metadata": {},
   "source": [
    "***"
   ]
  }
 ],
 "metadata": {
  "kernelspec": {
   "display_name": "Python 3",
   "language": "python",
   "name": "python3"
  },
  "language_info": {
   "codemirror_mode": {
    "name": "ipython",
    "version": 3
   },
   "file_extension": ".py",
   "mimetype": "text/x-python",
   "name": "python",
   "nbconvert_exporter": "python",
   "pygments_lexer": "ipython3",
   "version": "3.6.4"
  }
 },
 "nbformat": 4,
 "nbformat_minor": 2
}
