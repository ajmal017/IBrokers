{
 "cells": [
  {
   "cell_type": "markdown",
   "metadata": {},
   "source": [
    "Market depth (order book)\n",
    "=============="
   ]
  },
  {
   "cell_type": "code",
   "execution_count": 7,
   "metadata": {},
   "outputs": [
    {
     "name": "stderr",
     "output_type": "stream",
     "text": [
      "ERROR:ib_insync.wrapper:Error 321, reqId 1: Error validating request:-'aS' : cause - ALL account is not supported\n"
     ]
    },
    {
     "data": {
      "text/plain": [
       "<IB connected to 127.0.0.1:4002 clientId=16>"
      ]
     },
     "execution_count": 7,
     "metadata": {},
     "output_type": "execute_result"
    }
   ],
   "source": [
    "from ib_insync import *\n",
    "util.startLoop()\n",
    "\n",
    "ib = IB()\n",
    "ib.connect('127.0.0.1', 4002, clientId=16)"
   ]
  },
  {
   "cell_type": "markdown",
   "metadata": {},
   "source": [
    "To get a list of all exchanges that support market depth data and display the first five:"
   ]
  },
  {
   "cell_type": "code",
   "execution_count": 8,
   "metadata": {},
   "outputs": [
    {
     "data": {
      "text/plain": [
       "[DepthMktDataDescription(exchange='DTB', secType='OPT'),\n",
       " DepthMktDataDescription(exchange='LSEETF', secType='STK'),\n",
       " DepthMktDataDescription(exchange='SGX', secType='FUT'),\n",
       " DepthMktDataDescription(exchange='ARCA', secType='STK'),\n",
       " DepthMktDataDescription(exchange='AEB', secType='IOPT')]"
      ]
     },
     "execution_count": 8,
     "metadata": {},
     "output_type": "execute_result"
    }
   ],
   "source": [
    "l = ib.reqMktDepthExchanges()\n",
    "l[:5]"
   ]
  },
  {
   "cell_type": "markdown",
   "metadata": {},
   "source": [
    "Let's subscribe to market depth data for EURUSD:"
   ]
  },
  {
   "cell_type": "code",
   "execution_count": 9,
   "metadata": {},
   "outputs": [],
   "source": [
    "contract = Forex('EURUSD')\n",
    "ib.qualifyContracts(contract)\n",
    "ticker = ib.reqMktDepth(contract)"
   ]
  },
  {
   "cell_type": "markdown",
   "metadata": {},
   "source": [
    "To see the order book live updated:"
   ]
  },
  {
   "cell_type": "code",
   "execution_count": 11,
   "metadata": {},
   "outputs": [
    {
     "data": {
      "text/html": [
       "<div>\n",
       "<style scoped>\n",
       "    .dataframe tbody tr th:only-of-type {\n",
       "        vertical-align: middle;\n",
       "    }\n",
       "\n",
       "    .dataframe tbody tr th {\n",
       "        vertical-align: top;\n",
       "    }\n",
       "\n",
       "    .dataframe thead th {\n",
       "        text-align: right;\n",
       "    }\n",
       "</style>\n",
       "<table border=\"1\" class=\"dataframe\">\n",
       "  <thead>\n",
       "    <tr style=\"text-align: right;\">\n",
       "      <th></th>\n",
       "      <th>bidSize</th>\n",
       "      <th>bidPrice</th>\n",
       "      <th>askPrice</th>\n",
       "      <th>askSize</th>\n",
       "    </tr>\n",
       "  </thead>\n",
       "  <tbody>\n",
       "    <tr>\n",
       "      <th>0</th>\n",
       "      <td>3500000</td>\n",
       "      <td>1.16307</td>\n",
       "      <td>1.1631</td>\n",
       "      <td>1000000</td>\n",
       "    </tr>\n",
       "    <tr>\n",
       "      <th>1</th>\n",
       "      <td>14000000</td>\n",
       "      <td>1.16305</td>\n",
       "      <td>1.16311</td>\n",
       "      <td>5500000</td>\n",
       "    </tr>\n",
       "    <tr>\n",
       "      <th>2</th>\n",
       "      <td>1000000</td>\n",
       "      <td>1.16304</td>\n",
       "      <td>1.16312</td>\n",
       "      <td>2000000</td>\n",
       "    </tr>\n",
       "    <tr>\n",
       "      <th>3</th>\n",
       "      <td>1000000</td>\n",
       "      <td>1.16303</td>\n",
       "      <td>1.16313</td>\n",
       "      <td>7500000</td>\n",
       "    </tr>\n",
       "    <tr>\n",
       "      <th>4</th>\n",
       "      <td>1000000</td>\n",
       "      <td>1.16302</td>\n",
       "      <td>1.16315</td>\n",
       "      <td>4500000</td>\n",
       "    </tr>\n",
       "  </tbody>\n",
       "</table>\n",
       "</div>"
      ],
      "text/plain": [
       "    bidSize bidPrice askPrice  askSize\n",
       "0   3500000  1.16307   1.1631  1000000\n",
       "1  14000000  1.16305  1.16311  5500000\n",
       "2   1000000  1.16304  1.16312  2000000\n",
       "3   1000000  1.16303  1.16313  7500000\n",
       "4   1000000  1.16302  1.16315  4500000"
      ]
     },
     "metadata": {},
     "output_type": "display_data"
    }
   ],
   "source": [
    "from IPython.display import display, clear_output\n",
    "import pandas as pd\n",
    "\n",
    "df = pd.DataFrame(index=range(5),\n",
    "        columns='bidSize bidPrice askPrice askSize'.split())\n",
    "\n",
    "for t in ib.loopUntil(timeout=15):\n",
    "    l = ticker.domBids\n",
    "    for i in range(5):\n",
    "        df.iloc[i, 0] = l[i].size if i < len(l) else 0\n",
    "        df.iloc[i, 1] = l[i].price if i < len(l) else 0\n",
    "    l = ticker.domAsks\n",
    "    for i in range(5):\n",
    "        df.iloc[i, 2] = l[i].price if i < len(l) else 0\n",
    "        df.iloc[i, 3] = l[i].size if i < len(l) else 0\n",
    "    clear_output(wait=True)\n",
    "    display(df)"
   ]
  },
  {
   "cell_type": "markdown",
   "metadata": {},
   "source": [
    "Stop the market depth subscription:"
   ]
  },
  {
   "cell_type": "code",
   "execution_count": 12,
   "metadata": {},
   "outputs": [],
   "source": [
    "ib.cancelMktDepth(contract)"
   ]
  },
  {
   "cell_type": "code",
   "execution_count": 13,
   "metadata": {},
   "outputs": [],
   "source": [
    "ib.disconnect()"
   ]
  },
  {
   "cell_type": "markdown",
   "metadata": {
    "collapsed": true
   },
   "source": [
    "***"
   ]
  }
 ],
 "metadata": {
  "kernelspec": {
   "display_name": "Python 3",
   "language": "python",
   "name": "python3"
  },
  "language_info": {
   "codemirror_mode": {
    "name": "ipython",
    "version": 3
   },
   "file_extension": ".py",
   "mimetype": "text/x-python",
   "name": "python",
   "nbconvert_exporter": "python",
   "pygments_lexer": "ipython3",
   "version": "3.6.4"
  }
 },
 "nbformat": 4,
 "nbformat_minor": 2
}
