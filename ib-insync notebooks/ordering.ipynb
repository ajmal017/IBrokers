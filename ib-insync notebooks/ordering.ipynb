{
 "cells": [
  {
   "cell_type": "markdown",
   "metadata": {},
   "source": [
    "# Ordering\n",
    "\n",
    "\n",
    "## Warning: This notebook will place live orders\n",
    "\n",
    "Use a papertrading account when running this notebook.\n"
   ]
  },
  {
   "cell_type": "code",
   "execution_count": 1,
   "metadata": {
    "scrolled": true
   },
   "outputs": [
    {
     "name": "stderr",
     "output_type": "stream",
     "text": [
      "ERROR:ib_insync.wrapper:Error 321, reqId 12: Error validating request:-'aS' : cause - ALL account is not supported\n"
     ]
    },
    {
     "data": {
      "text/plain": [
       "<IB connected to 127.0.0.1:4002 clientId=23>"
      ]
     },
     "execution_count": 1,
     "metadata": {},
     "output_type": "execute_result"
    }
   ],
   "source": [
    "from ib_insync import *\n",
    "util.startLoop()\n",
    "\n",
    "ib = IB()\n",
    "ib.connect('127.0.0.1', 4002, clientId=23)"
   ]
  },
  {
   "cell_type": "markdown",
   "metadata": {},
   "source": [
    "Create a contract and a market order:"
   ]
  },
  {
   "cell_type": "code",
   "execution_count": 2,
   "metadata": {},
   "outputs": [],
   "source": [
    "contract = Stock('AAPL', 'SMART', 'USD')\n",
    "ib.qualifyContracts(contract)\n",
    "\n",
    "order = MarketOrder('BUY', 100)"
   ]
  },
  {
   "cell_type": "markdown",
   "metadata": {},
   "source": [
    "placeOrder will place the order order and return a ``Trade`` object right away (non-blocking):"
   ]
  },
  {
   "cell_type": "code",
   "execution_count": 3,
   "metadata": {},
   "outputs": [
    {
     "data": {
      "text/plain": [
       "Trade(contract=Stock(conId=265598, symbol='AAPL', exchange='SMART', primaryExchange='NASDAQ', currency='USD', localSymbol='AAPL', tradingClass='NMS'), order=MarketOrder(orderId=15, action='BUY', totalQuantity=100), orderStatus=OrderStatus(status='PendingSubmit'), fills=[], log=[TradeLogEntry(time=datetime.datetime(2018, 6, 22, 5, 52, 14, 113511, tzinfo=datetime.timezone.utc), status='PendingSubmit', message='')])"
      ]
     },
     "execution_count": 3,
     "metadata": {},
     "output_type": "execute_result"
    }
   ],
   "source": [
    "trade = ib.placeOrder(contract, order)\n",
    "\n",
    "trade"
   ]
  },
  {
   "cell_type": "markdown",
   "metadata": {},
   "source": [
    "``trade`` contains the order and everything related to it, such as order status, fills and a log.\n",
    "It will be live updated with every status change or fill of the order."
   ]
  },
  {
   "cell_type": "code",
   "execution_count": 4,
   "metadata": {
    "scrolled": true
   },
   "outputs": [
    {
     "data": {
      "text/plain": [
       "[TradeLogEntry(time=datetime.datetime(2018, 6, 22, 5, 52, 14, 113511, tzinfo=datetime.timezone.utc), status='PendingSubmit', message=''),\n",
       " TradeLogEntry(time=datetime.datetime(2018, 6, 22, 5, 52, 14, 627143, tzinfo=datetime.timezone.utc), status='PreSubmitted', message='')]"
      ]
     },
     "execution_count": 4,
     "metadata": {},
     "output_type": "execute_result"
    }
   ],
   "source": [
    "ib.sleep(1)\n",
    "trade.log"
   ]
  },
  {
   "cell_type": "markdown",
   "metadata": {},
   "source": [
    "``trade`` will also available from ``ib.trades()``:"
   ]
  },
  {
   "cell_type": "code",
   "execution_count": 5,
   "metadata": {},
   "outputs": [],
   "source": [
    "assert trade in ib.trades()"
   ]
  },
  {
   "cell_type": "markdown",
   "metadata": {},
   "source": [
    "Likewise for ``order``:"
   ]
  },
  {
   "cell_type": "code",
   "execution_count": 6,
   "metadata": {},
   "outputs": [],
   "source": [
    "assert order in ib.orders()"
   ]
  },
  {
   "cell_type": "markdown",
   "metadata": {},
   "source": [
    "Now let's create a limit order with an unrealistic limit:"
   ]
  },
  {
   "cell_type": "code",
   "execution_count": 7,
   "metadata": {},
   "outputs": [
    {
     "data": {
      "text/plain": [
       "Trade(contract=Stock(conId=265598, symbol='AAPL', exchange='SMART', primaryExchange='NASDAQ', currency='USD', localSymbol='AAPL', tradingClass='NMS'), order=LimitOrder(orderId=16, action='BUY', totalQuantity=100, lmtPrice=0.05), orderStatus=OrderStatus(status='PendingSubmit'), fills=[], log=[TradeLogEntry(time=datetime.datetime(2018, 6, 22, 5, 53, 19, 502037, tzinfo=datetime.timezone.utc), status='PendingSubmit', message='')])"
      ]
     },
     "execution_count": 7,
     "metadata": {},
     "output_type": "execute_result"
    }
   ],
   "source": [
    "limitOrder = LimitOrder('BUY', 100, 0.05)\n",
    "limitTrade = ib.placeOrder(contract, limitOrder)\n",
    "\n",
    "limitTrade"
   ]
  },
  {
   "cell_type": "markdown",
   "metadata": {},
   "source": [
    "``status`` will change from \"PendingSubmit\" to \"Submitted\":"
   ]
  },
  {
   "cell_type": "code",
   "execution_count": 8,
   "metadata": {},
   "outputs": [
    {
     "ename": "AssertionError",
     "evalue": "",
     "output_type": "error",
     "traceback": [
      "\u001b[0;31m---------------------------------------------------------------------------\u001b[0m",
      "\u001b[0;31mAssertionError\u001b[0m                            Traceback (most recent call last)",
      "\u001b[0;32m<ipython-input-8-bacb199af8f4>\u001b[0m in \u001b[0;36m<module>\u001b[0;34m()\u001b[0m\n\u001b[1;32m      1\u001b[0m \u001b[0mib\u001b[0m\u001b[0;34m.\u001b[0m\u001b[0msleep\u001b[0m\u001b[0;34m(\u001b[0m\u001b[0;36m1\u001b[0m\u001b[0;34m)\u001b[0m\u001b[0;34m\u001b[0m\u001b[0m\n\u001b[0;32m----> 2\u001b[0;31m \u001b[0;32massert\u001b[0m \u001b[0mlimitTrade\u001b[0m\u001b[0;34m.\u001b[0m\u001b[0morderStatus\u001b[0m\u001b[0;34m.\u001b[0m\u001b[0mstatus\u001b[0m \u001b[0;34m==\u001b[0m \u001b[0;34m'Submitted'\u001b[0m\u001b[0;34m\u001b[0m\u001b[0m\n\u001b[0m",
      "\u001b[0;31mAssertionError\u001b[0m: "
     ]
    }
   ],
   "source": [
    "ib.sleep(1)\n",
    "assert limitTrade.orderStatus.status == 'Submitted'"
   ]
  },
  {
   "cell_type": "code",
   "execution_count": 9,
   "metadata": {},
   "outputs": [],
   "source": [
    "assert limitTrade in ib.openTrades()"
   ]
  },
  {
   "cell_type": "markdown",
   "metadata": {},
   "source": [
    "Let's modify the limit price and resubmit:"
   ]
  },
  {
   "cell_type": "code",
   "execution_count": 10,
   "metadata": {},
   "outputs": [
    {
     "data": {
      "text/plain": [
       "Trade(contract=Stock(conId=265598, symbol='AAPL', exchange='SMART', primaryExchange='NASDAQ', currency='USD', localSymbol='AAPL', tradingClass='NMS'), order=LimitOrder(orderId=16, action='BUY', totalQuantity=100, lmtPrice=0.1), orderStatus=OrderStatus(status='PreSubmitted', remaining=100.0, permId=2113698761, clientId=23, whyHeld='locate', mktCapPrice=None), fills=[], log=[TradeLogEntry(time=datetime.datetime(2018, 6, 22, 5, 53, 19, 502037, tzinfo=datetime.timezone.utc), status='PendingSubmit', message=''), TradeLogEntry(time=datetime.datetime(2018, 6, 22, 5, 53, 19, 825797, tzinfo=datetime.timezone.utc), status='PreSubmitted', message=''), TradeLogEntry(time=datetime.datetime(2018, 6, 22, 5, 54, 26, 409070, tzinfo=datetime.timezone.utc), status='PreSubmitted', message='Modify')])"
      ]
     },
     "execution_count": 10,
     "metadata": {},
     "output_type": "execute_result"
    }
   ],
   "source": [
    "limitOrder.lmtPrice = 0.10\n",
    "\n",
    "ib.placeOrder(contract, limitOrder)"
   ]
  },
  {
   "cell_type": "markdown",
   "metadata": {},
   "source": [
    "And now cancel it:"
   ]
  },
  {
   "cell_type": "code",
   "execution_count": 11,
   "metadata": {},
   "outputs": [
    {
     "data": {
      "text/plain": [
       "Trade(contract=Stock(conId=265598, symbol='AAPL', exchange='SMART', primaryExchange='NASDAQ', currency='USD', localSymbol='AAPL', tradingClass='NMS'), order=LimitOrder(orderId=16, action='BUY', totalQuantity=100, lmtPrice=0.1), orderStatus=OrderStatus(status='PreSubmitted', remaining=100.0, permId=2113698761, clientId=23, whyHeld='locate', mktCapPrice=None), fills=[], log=[TradeLogEntry(time=datetime.datetime(2018, 6, 22, 5, 53, 19, 502037, tzinfo=datetime.timezone.utc), status='PendingSubmit', message=''), TradeLogEntry(time=datetime.datetime(2018, 6, 22, 5, 53, 19, 825797, tzinfo=datetime.timezone.utc), status='PreSubmitted', message=''), TradeLogEntry(time=datetime.datetime(2018, 6, 22, 5, 54, 26, 409070, tzinfo=datetime.timezone.utc), status='PreSubmitted', message='Modify'), TradeLogEntry(time=datetime.datetime(2018, 6, 22, 5, 54, 33, 554896, tzinfo=datetime.timezone.utc), status='PendingCancel', message='')])"
      ]
     },
     "execution_count": 11,
     "metadata": {},
     "output_type": "execute_result"
    }
   ],
   "source": [
    "ib.cancelOrder(limitOrder)"
   ]
  },
  {
   "cell_type": "code",
   "execution_count": 12,
   "metadata": {},
   "outputs": [
    {
     "data": {
      "text/plain": [
       "[TradeLogEntry(time=datetime.datetime(2018, 6, 22, 5, 53, 19, 502037, tzinfo=datetime.timezone.utc), status='PendingSubmit', message=''),\n",
       " TradeLogEntry(time=datetime.datetime(2018, 6, 22, 5, 53, 19, 825797, tzinfo=datetime.timezone.utc), status='PreSubmitted', message=''),\n",
       " TradeLogEntry(time=datetime.datetime(2018, 6, 22, 5, 54, 26, 409070, tzinfo=datetime.timezone.utc), status='PreSubmitted', message='Modify'),\n",
       " TradeLogEntry(time=datetime.datetime(2018, 6, 22, 5, 54, 33, 554896, tzinfo=datetime.timezone.utc), status='PendingCancel', message=''),\n",
       " TradeLogEntry(time=datetime.datetime(2018, 6, 22, 5, 54, 33, 907979, tzinfo=datetime.timezone.utc), status='Cancelled', message='')]"
      ]
     },
     "execution_count": 12,
     "metadata": {},
     "output_type": "execute_result"
    }
   ],
   "source": [
    "limitTrade.log"
   ]
  },
  {
   "cell_type": "markdown",
   "metadata": {},
   "source": [
    "Some note of warning: reqContractDetails can happily report that a contract is unique,\n",
    "while placeOrder() will complain that the contract is ambiguous. An example is INTC:"
   ]
  },
  {
   "cell_type": "code",
   "execution_count": 13,
   "metadata": {},
   "outputs": [
    {
     "name": "stderr",
     "output_type": "stream",
     "text": [
      "ERROR:ib_insync.wrapper:Error 200, reqId 18: The contract description specified for INTC is ambiguous.\n",
      "WARNING:ib_insync.wrapper:Canceled order: Trade(contract=Stock(symbol='INTC', exchange='SMART', currency='USD'), order=LimitOrder(orderId=18, action='BUY', totalQuantity=100, lmtPrice=0.05), orderStatus=OrderStatus(status='Cancelled'), fills=[], log=[TradeLogEntry(time=datetime.datetime(2018, 6, 22, 5, 54, 59, 238244, tzinfo=datetime.timezone.utc), status='PendingSubmit', message=''), TradeLogEntry(time=datetime.datetime(2018, 6, 22, 5, 54, 59, 536095, tzinfo=datetime.timezone.utc), status='Cancelled', message='Error 200, reqId 18: The contract description specified for INTC is ambiguous.')])\n"
     ]
    }
   ],
   "source": [
    "intc = Stock('INTC', 'SMART', 'USD')\n",
    "\n",
    "assert len(ib.reqContractDetails(intc)) == 1\n",
    "\n",
    "intcOrder = LimitOrder('BUY', 100, 0.05)\n",
    "trade = ib.placeOrder(intc, intcOrder)\n",
    "ib.sleep(1);"
   ]
  },
  {
   "cell_type": "code",
   "execution_count": 14,
   "metadata": {},
   "outputs": [],
   "source": [
    "assert trade.orderStatus.status == 'Cancelled'"
   ]
  },
  {
   "cell_type": "markdown",
   "metadata": {},
   "source": [
    "So it is always a good\n",
    "idea to a qualify a contract before trading it."
   ]
  },
  {
   "cell_type": "code",
   "execution_count": 15,
   "metadata": {},
   "outputs": [],
   "source": [
    "ib.qualifyContracts(intc)\n",
    "\n",
    "intcOrder = LimitOrder('BUY', 100, 0.05)\n",
    "trade = ib.placeOrder(intc, intcOrder)"
   ]
  },
  {
   "cell_type": "code",
   "execution_count": 16,
   "metadata": {},
   "outputs": [
    {
     "data": {
      "text/plain": [
       "Trade(contract=Stock(conId=270639, symbol='INTC', exchange='SMART', primaryExchange='NASDAQ', currency='USD', localSymbol='INTC', tradingClass='NMS'), order=LimitOrder(orderId=20, action='BUY', totalQuantity=100, lmtPrice=0.05), orderStatus=OrderStatus(status='PreSubmitted', remaining=100.0, permId=2113698762, clientId=23, whyHeld='locate', mktCapPrice=None), fills=[], log=[TradeLogEntry(time=datetime.datetime(2018, 6, 22, 5, 55, 30, 988670, tzinfo=datetime.timezone.utc), status='PendingSubmit', message=''), TradeLogEntry(time=datetime.datetime(2018, 6, 22, 5, 55, 31, 288631, tzinfo=datetime.timezone.utc), status='PreSubmitted', message=''), TradeLogEntry(time=datetime.datetime(2018, 6, 22, 5, 56, 0, 675344, tzinfo=datetime.timezone.utc), status='PendingCancel', message='')])"
      ]
     },
     "execution_count": 16,
     "metadata": {},
     "output_type": "execute_result"
    }
   ],
   "source": [
    "ib.cancelOrder(intcOrder)"
   ]
  },
  {
   "cell_type": "markdown",
   "metadata": {},
   "source": [
    "placeOrder is not blocking and will not wait on what happens with the order.\n",
    "To make the order placement blocking, that is to wait until the order is either\n",
    "filled or canceled, consider the following:"
   ]
  },
  {
   "cell_type": "code",
   "execution_count": 17,
   "metadata": {},
   "outputs": [
    {
     "ename": "KeyboardInterrupt",
     "evalue": "",
     "output_type": "error",
     "traceback": [
      "\u001b[0;31m---------------------------------------------------------------------------\u001b[0m",
      "\u001b[0;31mKeyboardInterrupt\u001b[0m                         Traceback (most recent call last)",
      "\u001b[0;32m<timed exec>\u001b[0m in \u001b[0;36m<module>\u001b[0;34m()\u001b[0m\n",
      "\u001b[0;32m~/anaconda3/envs/ib/lib/python3.6/site-packages/ib_insync/ib.py\u001b[0m in \u001b[0;36mwaitOnUpdate\u001b[0;34m(self)\u001b[0m\n\u001b[1;32m    228\u001b[0m         \u001b[0mWait\u001b[0m \u001b[0mon\u001b[0m \u001b[0many\u001b[0m \u001b[0mnew\u001b[0m \u001b[0mupdate\u001b[0m \u001b[0mto\u001b[0m \u001b[0marrive\u001b[0m \u001b[0;32mfrom\u001b[0m \u001b[0mthe\u001b[0m \u001b[0mnetwork\u001b[0m\u001b[0;34m.\u001b[0m\u001b[0;34m\u001b[0m\u001b[0m\n\u001b[1;32m    229\u001b[0m         \"\"\"\n\u001b[0;32m--> 230\u001b[0;31m         \u001b[0mself\u001b[0m\u001b[0;34m.\u001b[0m\u001b[0mrun\u001b[0m\u001b[0;34m(\u001b[0m\u001b[0mself\u001b[0m\u001b[0;34m.\u001b[0m\u001b[0mwrapper\u001b[0m\u001b[0;34m.\u001b[0m\u001b[0mupdateEvent\u001b[0m\u001b[0;34m.\u001b[0m\u001b[0mwait\u001b[0m\u001b[0;34m(\u001b[0m\u001b[0;34m)\u001b[0m\u001b[0;34m)\u001b[0m\u001b[0;34m\u001b[0m\u001b[0m\n\u001b[0m\u001b[1;32m    231\u001b[0m         \u001b[0;32mreturn\u001b[0m \u001b[0;32mTrue\u001b[0m\u001b[0;34m\u001b[0m\u001b[0m\n\u001b[1;32m    232\u001b[0m \u001b[0;34m\u001b[0m\u001b[0m\n",
      "\u001b[0;32m~/anaconda3/envs/ib/lib/python3.6/site-packages/ib_insync/ib.py\u001b[0m in \u001b[0;36mrun\u001b[0;34m(*awaitables)\u001b[0m\n\u001b[1;32m    156\u001b[0m             \u001b[0;32melse\u001b[0m\u001b[0;34m:\u001b[0m\u001b[0;34m\u001b[0m\u001b[0m\n\u001b[1;32m    157\u001b[0m                 \u001b[0mfuture\u001b[0m \u001b[0;34m=\u001b[0m \u001b[0masyncio\u001b[0m\u001b[0;34m.\u001b[0m\u001b[0mgather\u001b[0m\u001b[0;34m(\u001b[0m\u001b[0;34m*\u001b[0m\u001b[0mawaitables\u001b[0m\u001b[0;34m)\u001b[0m\u001b[0;34m\u001b[0m\u001b[0m\n\u001b[0;32m--> 158\u001b[0;31m             \u001b[0mresult\u001b[0m \u001b[0;34m=\u001b[0m \u001b[0mutil\u001b[0m\u001b[0;34m.\u001b[0m\u001b[0msyncAwait\u001b[0m\u001b[0;34m(\u001b[0m\u001b[0mfuture\u001b[0m\u001b[0;34m)\u001b[0m\u001b[0;34m\u001b[0m\u001b[0m\n\u001b[0m\u001b[1;32m    159\u001b[0m         \u001b[0;32mreturn\u001b[0m \u001b[0mresult\u001b[0m\u001b[0;34m\u001b[0m\u001b[0m\n\u001b[1;32m    160\u001b[0m \u001b[0;34m\u001b[0m\u001b[0m\n",
      "\u001b[0;32m~/anaconda3/envs/ib/lib/python3.6/site-packages/ib_insync/util.py\u001b[0m in \u001b[0;36msyncAwait\u001b[0;34m(future)\u001b[0m\n\u001b[1;32m    240\u001b[0m         \u001b[0mresult\u001b[0m \u001b[0;34m=\u001b[0m \u001b[0m_syncAwaitQt\u001b[0m\u001b[0;34m(\u001b[0m\u001b[0mfuture\u001b[0m\u001b[0;34m)\u001b[0m\u001b[0;34m\u001b[0m\u001b[0m\n\u001b[1;32m    241\u001b[0m     \u001b[0;32melse\u001b[0m\u001b[0;34m:\u001b[0m\u001b[0;34m\u001b[0m\u001b[0m\n\u001b[0;32m--> 242\u001b[0;31m         \u001b[0mresult\u001b[0m \u001b[0;34m=\u001b[0m \u001b[0m_syncAwaitAsyncio\u001b[0m\u001b[0;34m(\u001b[0m\u001b[0mfuture\u001b[0m\u001b[0;34m)\u001b[0m\u001b[0;34m\u001b[0m\u001b[0m\n\u001b[0m\u001b[1;32m    243\u001b[0m     \u001b[0;32mreturn\u001b[0m \u001b[0mresult\u001b[0m\u001b[0;34m\u001b[0m\u001b[0m\n\u001b[1;32m    244\u001b[0m \u001b[0;34m\u001b[0m\u001b[0m\n",
      "\u001b[0;32m~/anaconda3/envs/ib/lib/python3.6/site-packages/ib_insync/util.py\u001b[0m in \u001b[0;36m_syncAwaitAsyncio\u001b[0;34m(future)\u001b[0m\n\u001b[1;32m    253\u001b[0m     \u001b[0mpreserved_task\u001b[0m \u001b[0;34m=\u001b[0m \u001b[0mcurrent_tasks\u001b[0m\u001b[0;34m.\u001b[0m\u001b[0mget\u001b[0m\u001b[0;34m(\u001b[0m\u001b[0mloop\u001b[0m\u001b[0;34m)\u001b[0m\u001b[0;34m\u001b[0m\u001b[0m\n\u001b[1;32m    254\u001b[0m     \u001b[0;32mwhile\u001b[0m \u001b[0;32mnot\u001b[0m \u001b[0mfuture\u001b[0m\u001b[0;34m.\u001b[0m\u001b[0mdone\u001b[0m\u001b[0;34m(\u001b[0m\u001b[0;34m)\u001b[0m\u001b[0;34m:\u001b[0m\u001b[0;34m\u001b[0m\u001b[0m\n\u001b[0;32m--> 255\u001b[0;31m         \u001b[0mloop\u001b[0m\u001b[0;34m.\u001b[0m\u001b[0m_run_once\u001b[0m\u001b[0;34m(\u001b[0m\u001b[0;34m)\u001b[0m\u001b[0;34m\u001b[0m\u001b[0m\n\u001b[0m\u001b[1;32m    256\u001b[0m         \u001b[0;32mif\u001b[0m \u001b[0mloop\u001b[0m\u001b[0;34m.\u001b[0m\u001b[0m_stopping\u001b[0m\u001b[0;34m:\u001b[0m\u001b[0;34m\u001b[0m\u001b[0m\n\u001b[1;32m    257\u001b[0m             \u001b[0;32mbreak\u001b[0m\u001b[0;34m\u001b[0m\u001b[0m\n",
      "\u001b[0;32m~/anaconda3/envs/ib/lib/python3.6/asyncio/base_events.py\u001b[0m in \u001b[0;36m_run_once\u001b[0;34m(self)\u001b[0m\n\u001b[1;32m   1393\u001b[0m                            timeout * 1e3, dt * 1e3)\n\u001b[1;32m   1394\u001b[0m         \u001b[0;32melse\u001b[0m\u001b[0;34m:\u001b[0m\u001b[0;34m\u001b[0m\u001b[0m\n\u001b[0;32m-> 1395\u001b[0;31m             \u001b[0mevent_list\u001b[0m \u001b[0;34m=\u001b[0m \u001b[0mself\u001b[0m\u001b[0;34m.\u001b[0m\u001b[0m_selector\u001b[0m\u001b[0;34m.\u001b[0m\u001b[0mselect\u001b[0m\u001b[0;34m(\u001b[0m\u001b[0mtimeout\u001b[0m\u001b[0;34m)\u001b[0m\u001b[0;34m\u001b[0m\u001b[0m\n\u001b[0m\u001b[1;32m   1396\u001b[0m         \u001b[0mself\u001b[0m\u001b[0;34m.\u001b[0m\u001b[0m_process_events\u001b[0m\u001b[0;34m(\u001b[0m\u001b[0mevent_list\u001b[0m\u001b[0;34m)\u001b[0m\u001b[0;34m\u001b[0m\u001b[0m\n\u001b[1;32m   1397\u001b[0m \u001b[0;34m\u001b[0m\u001b[0m\n",
      "\u001b[0;32m~/anaconda3/envs/ib/lib/python3.6/selectors.py\u001b[0m in \u001b[0;36mselect\u001b[0;34m(self, timeout)\u001b[0m\n\u001b[1;32m    575\u001b[0m             \u001b[0mready\u001b[0m \u001b[0;34m=\u001b[0m \u001b[0;34m[\u001b[0m\u001b[0;34m]\u001b[0m\u001b[0;34m\u001b[0m\u001b[0m\n\u001b[1;32m    576\u001b[0m             \u001b[0;32mtry\u001b[0m\u001b[0;34m:\u001b[0m\u001b[0;34m\u001b[0m\u001b[0m\n\u001b[0;32m--> 577\u001b[0;31m                 \u001b[0mkev_list\u001b[0m \u001b[0;34m=\u001b[0m \u001b[0mself\u001b[0m\u001b[0;34m.\u001b[0m\u001b[0m_kqueue\u001b[0m\u001b[0;34m.\u001b[0m\u001b[0mcontrol\u001b[0m\u001b[0;34m(\u001b[0m\u001b[0;32mNone\u001b[0m\u001b[0;34m,\u001b[0m \u001b[0mmax_ev\u001b[0m\u001b[0;34m,\u001b[0m \u001b[0mtimeout\u001b[0m\u001b[0;34m)\u001b[0m\u001b[0;34m\u001b[0m\u001b[0m\n\u001b[0m\u001b[1;32m    578\u001b[0m             \u001b[0;32mexcept\u001b[0m \u001b[0mInterruptedError\u001b[0m\u001b[0;34m:\u001b[0m\u001b[0;34m\u001b[0m\u001b[0m\n\u001b[1;32m    579\u001b[0m                 \u001b[0;32mreturn\u001b[0m \u001b[0mready\u001b[0m\u001b[0;34m\u001b[0m\u001b[0m\n",
      "\u001b[0;31mKeyboardInterrupt\u001b[0m: "
     ]
    }
   ],
   "source": [
    "%%time\n",
    "order = MarketOrder('BUY', 100)\n",
    "\n",
    "trade = ib.placeOrder(contract, order)\n",
    "while not trade.isDone():\n",
    "    ib.waitOnUpdate()"
   ]
  },
  {
   "cell_type": "markdown",
   "metadata": {},
   "source": [
    "What are our positions?"
   ]
  },
  {
   "cell_type": "code",
   "execution_count": 18,
   "metadata": {
    "scrolled": true
   },
   "outputs": [
    {
     "data": {
      "text/plain": [
       "[Position(account='DU774248', contract=Contract(secType='STK', conId=10098, symbol='BAC', exchange='NYSE', currency='USD', localSymbol='BAC', tradingClass='BAC'), position=300.0, avgCost=23.835),\n",
       " Position(account='DU774248', contract=Contract(secType='CASH', conId=12087802, symbol='CHF', currency='USD', localSymbol='CHF.USD', tradingClass='CHF.USD'), position=30000.0, avgCost=1.0082),\n",
       " Position(account='DU774248', contract=Contract(secType='CASH', conId=14433401, symbol='AUD', currency='USD', localSymbol='AUD.USD', tradingClass='AUD.USD'), position=150000.0, avgCost=0.7881105),\n",
       " Position(account='DU774248', contract=Contract(secType='STK', conId=4725951, symbol='AEO', exchange='NYSE', currency='USD', localSymbol='AEO', tradingClass='AEO'), position=500.0, avgCost=10.605),\n",
       " Position(account='DU774248', contract=Contract(secType='CASH', conId=12087792, symbol='EUR', currency='USD', localSymbol='EUR.USD', tradingClass='EUR.USD'), position=8600000.0, avgCost=1.18190765),\n",
       " Position(account='DU774248', contract=Contract(secType='STK', conId=166090175, symbol='BABA', exchange='NYSE', currency='USD', localSymbol='BABA', tradingClass='BABA'), position=400.0, avgCost=155.7275),\n",
       " Position(account='DU774248', contract=Contract(secType='STK', conId=148782724, symbol='WB', exchange='NASDAQ', currency='USD', localSymbol='WB', tradingClass='NMS'), position=500.0, avgCost=92.445),\n",
       " Position(account='DU774248', contract=Contract(secType='CASH', conId=12087797, symbol='GBP', currency='USD', localSymbol='GBP.USD', tradingClass='GBP.USD'), position=120000.0, avgCost=1.2789556),\n",
       " Position(account='DU774247', contract=Contract(secType='CASH', conId=12087820, symbol='USD', currency='CHF', localSymbol='USD.CHF', tradingClass='USD.CHF'), position=2000000.0, avgCost=0.960028),\n",
       " Position(account='DU774247', contract=Contract(secType='CASH', conId=114900061, symbol='SGD', currency='CNH', localSymbol='SGD.CNH', tradingClass='SGD.CNH'), position=1000000.0, avgCost=4.89405),\n",
       " Position(account='DU774247', contract=Contract(secType='CASH', conId=12087792, symbol='EUR', currency='USD', localSymbol='EUR.USD', tradingClass='EUR.USD'), position=1000000.0, avgCost=1.18305565),\n",
       " Position(account='DU774247', contract=Contract(secType='CASH', conId=12345777, symbol='USD', currency='HKD', localSymbol='USD.HKD', tradingClass='USD.HKD'), position=-1000000.0, avgCost=7.82385),\n",
       " Position(account='DU774246', contract=Contract(secType='CASH', conId=12087802, symbol='CHF', currency='USD', localSymbol='CHF.USD', tradingClass='CHF.USD'), position=-250000.0, avgCost=1.0082),\n",
       " Position(account='DU774246', contract=Contract(secType='CASH', conId=28027113, symbol='NOK', currency='SEK', localSymbol='NOK.SEK', tradingClass='NOK.SEK'), position=500000.0, avgCost=1.0139),\n",
       " Position(account='DU774246', contract=Contract(secType='CASH', conId=61664943, symbol='SGD', currency='JPY', localSymbol='SGD.JPY', tradingClass='SGD.JPY'), position=-500000.0, avgCost=80.523),\n",
       " Position(account='DU774246', contract=Contract(secType='CASH', conId=14433401, symbol='AUD', currency='USD', localSymbol='AUD.USD', tradingClass='AUD.USD'), position=25000.0, avgCost=0.7943),\n",
       " Position(account='DU774246', contract=Contract(secType='CASH', conId=37928772, symbol='USD', currency='SGD', localSymbol='USD.SGD', tradingClass='USD.SGD'), position=100000.0, avgCost=1.36305),\n",
       " Position(account='DU774246', contract=Contract(secType='CASH', conId=12087792, symbol='EUR', currency='USD', localSymbol='EUR.USD', tradingClass='EUR.USD'), position=5000000.0, avgCost=1.184054),\n",
       " Position(account='DU774246', contract=Contract(secType='CASH', conId=35045199, symbol='USD', currency='MXN', localSymbol='USD.MXN', tradingClass='USD.MXN'), position=-300000.0, avgCost=17.6767),\n",
       " Position(account='DU774246', contract=Contract(secType='CASH', conId=12087797, symbol='GBP', currency='USD', localSymbol='GBP.USD', tradingClass='GBP.USD'), position=500000.0, avgCost=1.29657595),\n",
       " Position(account='DU774246', contract=Contract(secType='CASH', conId=12345777, symbol='USD', currency='HKD', localSymbol='USD.HKD', tradingClass='USD.HKD'), position=100000.0, avgCost=7.82085),\n",
       " Position(account='DU774245', contract=Contract(secType='CASH', conId=15016062, symbol='USD', currency='CAD', localSymbol='USD.CAD', tradingClass='USD.CAD'), position=-5000000.0, avgCost=1.247152),\n",
       " Position(account='DU774244', contract=Contract(secType='CASH', conId=12087820, symbol='USD', currency='CHF', localSymbol='USD.CHF', tradingClass='USD.CHF'), position=1000000.0, avgCost=0.96475),\n",
       " Position(account='DU774244', contract=Contract(secType='CASH', conId=114900061, symbol='SGD', currency='CNH', localSymbol='SGD.CNH', tradingClass='SGD.CNH'), position=500000.0, avgCost=4.89662),\n",
       " Position(account='DU774244', contract=Contract(secType='CASH', conId=14433401, symbol='AUD', currency='USD', localSymbol='AUD.USD', tradingClass='AUD.USD'), position=-5000000.0, avgCost=0.7902382),\n",
       " Position(account='DU774244', contract=Contract(secType='CASH', conId=35045199, symbol='USD', currency='MXN', localSymbol='USD.MXN', tradingClass='USD.MXN'), position=-500000.0, avgCost=17.6632),\n",
       " Position(account='DU774243', contract=Contract(secType='CASH', conId=114900061, symbol='SGD', currency='CNH', localSymbol='SGD.CNH', tradingClass='SGD.CNH'), position=-1000000.0, avgCost=4.83754),\n",
       " Position(account='DU774243', contract=Contract(secType='CASH', conId=12087807, symbol='EUR', currency='GBP', localSymbol='EUR.GBP', tradingClass='EUR.GBP'), position=1000000.0, avgCost=0.90934),\n",
       " Position(account='DU774243', contract=Contract(secType='CASH', conId=34838409, symbol='USD', currency='CZK', localSymbol='USD.CZK', tradingClass='USD.CZK'), position=-500000.0, avgCost=21.85),\n",
       " Position(account='DU774242', contract=Contract(secType='STK', conId=10098, symbol='BAC', exchange='NYSE', currency='USD', localSymbol='BAC', tradingClass='BAC'), position=-500.0, avgCost=23.84453),\n",
       " Position(account='DU774242', contract=Contract(secType='CASH', conId=37928772, symbol='USD', currency='SGD', localSymbol='USD.SGD', tradingClass='USD.SGD'), position=500000.0, avgCost=1.361115),\n",
       " Position(account='DU774242', contract=Contract(secType='CASH', conId=12087792, symbol='EUR', currency='USD', localSymbol='EUR.USD', tradingClass='EUR.USD'), position=1000000.0, avgCost=1.18270365),\n",
       " Position(account='DU774242', contract=Contract(secType='STK', conId=107113386, symbol='FB', exchange='NASDAQ', currency='USD', localSymbol='FB', tradingClass='NMS'), position=1200.0, avgCost=170.61416665),\n",
       " Position(account='DU774242', contract=Contract(secType='STK', conId=272093, symbol='MSFT', exchange='NASDAQ', currency='USD', localSymbol='MSFT', tradingClass='NMS'), position=-500.0, avgCost=72.9531956),\n",
       " Position(account='DU774242', contract=Contract(secType='STK', conId=3691937, symbol='AMZN', exchange='NASDAQ', currency='USD', localSymbol='AMZN', tradingClass='NMS'), position=-200.0, avgCost=954.9728205),\n",
       " Position(account='DU774242', contract=Contract(secType='CASH', conId=15016062, symbol='USD', currency='CAD', localSymbol='USD.CAD', tradingClass='USD.CAD'), position=2000000.0, avgCost=1.273895),\n",
       " Position(account='DU774242', contract=Contract(secType='CASH', conId=37893486, symbol='USD', currency='SEK', localSymbol='USD.SEK', tradingClass='USD.SEK'), position=-3000000.0, avgCost=8.06397335),\n",
       " Position(account='DU774242', contract=Contract(secType='CASH', conId=15016059, symbol='USD', currency='JPY', localSymbol='USD.JPY', tradingClass='USD.JPY'), position=3500000.0, avgCost=109.33064285),\n",
       " Position(account='DU274370', contract=Contract(secType='STK', conId=233346091, symbol='UNISQ', exchange='VALUE', currency='USD', localSymbol='UNISQ', tradingClass='UNISQ'), position=10000.0, avgCost=8.45272515),\n",
       " Position(account='DU274370', contract=Contract(secType='CASH', conId=14433401, symbol='AUD', currency='USD', localSymbol='AUD.USD', tradingClass='AUD.USD'), position=3000000.0, avgCost=0.7084579),\n",
       " Position(account='DU274370', contract=Contract(secType='STK', conId=265598, symbol='AAPL', exchange='NASDAQ', currency='USD', localSymbol='AAPL', tradingClass='NMS'), position=5000.0, avgCost=103.7464686),\n",
       " Position(account='DU274370', contract=Contract(secType='CASH', conId=113342317, symbol='USD', currency='CNH', localSymbol='USD.CNH', tradingClass='USD.CNH'), position=400000.0, avgCost=6.742225),\n",
       " Position(account='DI246990', contract=Contract(secType='STK', conId=9408, symbol='MCD', exchange='NYSE', currency='USD', localSymbol='MCD', tradingClass='MCD'), position=-4.0, avgCost=121.264725),\n",
       " Position(account='DI246990', contract=Contract(secType='STK', conId=43645865, symbol='IBKR', exchange='NASDAQ', currency='USD', localSymbol='IBKR', tradingClass='NMS'), position=7.0, avgCost=38.8378),\n",
       " Position(account='DI246990', contract=Contract(secType='FUT', conId=279396694, symbol='ES', lastTradeDateOrContractMonth='20180921', multiplier='50', currency='USD', localSymbol='ESU8', tradingClass='ES'), position=22.0, avgCost=132968.52727275),\n",
       " Position(account='DI246990', contract=Contract(secType='CASH', conId=12087792, symbol='EUR', currency='USD', localSymbol='EUR.USD', tradingClass='EUR.USD'), position=150000.0, avgCost=1.12228245),\n",
       " Position(account='DI246990', contract=Contract(secType='STK', conId=14121, symbol='DBK', exchange='IBIS', currency='EUR', localSymbol='DBK', tradingClass='XETRA'), position=224.0, avgCost=17.85),\n",
       " Position(account='DI246990', contract=Contract(secType='STK', conId=265598, symbol='AAPL', exchange='NASDAQ', currency='USD', localSymbol='AAPL', tradingClass='NMS'), position=200.0, avgCost=174.95),\n",
       " Position(account='DI246990', contract=Contract(secType='STK', conId=208813720, symbol='GOOG', exchange='NASDAQ', currency='USD', localSymbol='GOOG', tradingClass='NMS'), position=850.0, avgCost=1009.70058825),\n",
       " Position(account='DI246990', contract=Contract(secType='CASH', conId=15016059, symbol='USD', currency='JPY', localSymbol='USD.JPY', tradingClass='USD.JPY'), position=400000.0, avgCost=107.25325),\n",
       " Position(account='DU958103', contract=Contract(secType='STK', conId=166090175, symbol='BABA', exchange='NYSE', currency='USD', localSymbol='BABA', tradingClass='BABA'), position=1500.0, avgCost=183.67433335),\n",
       " Position(account='DU958103', contract=Contract(secType='STK', conId=5946, symbol='COG', exchange='NYSE', currency='USD', localSymbol='COG', tradingClass='COG'), position=15000.0, avgCost=23.93026665),\n",
       " Position(account='DU816496', contract=Contract(secType='STK', conId=51529211, symbol='GLD', exchange='ARCA', currency='USD', localSymbol='GLD', tradingClass='GLD'), position=1000.0, avgCost=121.61),\n",
       " Position(account='DU816496', contract=Contract(secType='CASH', conId=15016062, symbol='USD', currency='CAD', localSymbol='USD.CAD', tradingClass='USD.CAD'), position=2000000.0, avgCost=1.253355),\n",
       " Position(account='DU914400', contract=Contract(secType='CASH', conId=12087792, symbol='EUR', currency='USD', localSymbol='EUR.USD', tradingClass='EUR.USD'), position=25000.0, avgCost=1.20717),\n",
       " Position(account='DU816494', contract=Contract(secType='CASH', conId=12087820, symbol='USD', currency='CHF', localSymbol='USD.CHF', tradingClass='USD.CHF'), position=-1575071.0, avgCost=0.976748),\n",
       " Position(account='DU816494', contract=Contract(secType='CASH', conId=14433401, symbol='AUD', currency='USD', localSymbol='AUD.USD', tradingClass='AUD.USD'), position=1956232.0, avgCost=0.7825014),\n",
       " Position(account='DU816494', contract=Contract(secType='CASH', conId=12087792, symbol='EUR', currency='USD', localSymbol='EUR.USD', tradingClass='EUR.USD'), position=1000000.0, avgCost=1.17312345),\n",
       " Position(account='DU816494', contract=Contract(secType='CASH', conId=12087797, symbol='GBP', currency='USD', localSymbol='GBP.USD', tradingClass='GBP.USD'), position=705106.0, avgCost=1.3340473),\n",
       " Position(account='DU816494', contract=Contract(secType='CASH', conId=15016059, symbol='USD', currency='JPY', localSymbol='USD.JPY', tradingClass='USD.JPY'), position=-1000000.0, avgCost=113.045),\n",
       " Position(account='DU905543', contract=Contract(secType='STK', conId=9939, symbol='MU', exchange='NASDAQ', currency='USD', localSymbol='MU', tradingClass='NMS'), position=10000.0, avgCost=45.9029),\n",
       " Position(account='DU905543', contract=Contract(secType='STK', conId=15124833, symbol='NFLX', exchange='NASDAQ', currency='USD', localSymbol='NFLX', tradingClass='NMS'), position=1000.0, avgCost=205.024),\n",
       " Position(account='DU905543', contract=Contract(secType='STK', conId=107113386, symbol='FB', exchange='NASDAQ', currency='USD', localSymbol='FB', tradingClass='NMS'), position=1500.0, avgCost=185.81833335),\n",
       " Position(account='DU905543', contract=Contract(secType='STK', conId=4815747, symbol='NVDA', exchange='NASDAQ', currency='USD', localSymbol='NVDA', tradingClass='NMS'), position=500.0, avgCost=213.365),\n",
       " Position(account='DU905543', contract=Contract(secType='STK', conId=210918190, symbol='RYAAY', exchange='NASDAQ', currency='USD', localSymbol='RYAAY', tradingClass='NMS'), position=500.0, avgCost=107.083),\n",
       " Position(account='DU905542', contract=Contract(secType='CASH', conId=12087797, symbol='GBP', currency='USD', localSymbol='GBP.USD', tradingClass='GBP.USD'), position=5000.0, avgCost=1.3541),\n",
       " Position(account='DU905541', contract=Contract(secType='CASH', conId=12087792, symbol='EUR', currency='USD', localSymbol='EUR.USD', tradingClass='EUR.USD'), position=2035000.0, avgCost=1.20453605),\n",
       " Position(account='DU905541', contract=Contract(secType='CASH', conId=15016059, symbol='USD', currency='JPY', localSymbol='USD.JPY', tradingClass='USD.JPY'), position=1000000.0, avgCost=112.349),\n",
       " Position(account='DU973432', contract=Contract(secType='STK', conId=15224443, symbol='TRI', exchange='NYSE', currency='USD', localSymbol='TRI', tradingClass='TRI'), position=1000.0, avgCost=39.595),\n",
       " Position(account='DU973432', contract=Contract(secType='STK', conId=4901, symbol='VZ', exchange='NYSE', currency='USD', localSymbol='VZ', tradingClass='VZ'), position=500.0, avgCost=49.805),\n",
       " Position(account='DU973432', contract=Contract(secType='STK', conId=107113386, symbol='FB', exchange='NASDAQ', currency='USD', localSymbol='FB', tradingClass='NMS'), position=1000.0, avgCost=175.61),\n",
       " Position(account='DU973432', contract=Contract(secType='CASH', conId=12087797, symbol='GBP', currency='USD', localSymbol='GBP.USD', tradingClass='GBP.USD'), position=10000.0, avgCost=1.38953),\n",
       " Position(account='DU905544', contract=Contract(secType='STK', conId=268084, symbol='CSCO', exchange='NASDAQ', currency='USD', localSymbol='CSCO', tradingClass='NMS'), position=10000.0, avgCost=39.1984),\n",
       " Position(account='DU905544', contract=Contract(secType='STK', conId=1520593, symbol='JPM', exchange='NYSE', currency='USD', localSymbol='JPM', tradingClass='JPM'), position=10500.0, avgCost=108.36166665),\n",
       " Position(account='DU905544', contract=Contract(secType='CASH', conId=12087792, symbol='EUR', currency='USD', localSymbol='EUR.USD', tradingClass='EUR.USD'), position=320000.0, avgCost=1.20358255),\n",
       " Position(account='DU905544', contract=Contract(secType='STK', conId=272093, symbol='MSFT', exchange='NASDAQ', currency='USD', localSymbol='MSFT', tradingClass='NMS'), position=100.0, avgCost=86.74),\n",
       " Position(account='DU958081', contract=Contract(secType='STK', conId=3691937, symbol='AMZN', exchange='NASDAQ', currency='USD', localSymbol='AMZN', tradingClass='NMS'), position=300.0, avgCost=1478.795),\n",
       " Position(account='DU958081', contract=Contract(secType='STK', conId=166090175, symbol='BABA', exchange='NYSE', currency='USD', localSymbol='BABA', tradingClass='BABA'), position=100.0, avgCost=177.33),\n",
       " Position(account='DU958081', contract=Contract(secType='STK', conId=7516, symbol='GE', exchange='NYSE', currency='USD', localSymbol='GE', tradingClass='GE'), position=-200.0, avgCost=14.5145455),\n",
       " Position(account='DU958082', contract=Contract(secType='STK', conId=166090175, symbol='BABA', exchange='NYSE', currency='USD', localSymbol='BABA', tradingClass='BABA'), position=700.0, avgCost=186.11642855),\n",
       " Position(account='DU958080', contract=Contract(secType='STK', conId=109911821, symbol='NOW', exchange='NYSE', currency='USD', localSymbol='NOW', tradingClass='NOW'), position=500.0, avgCost=146.201),\n",
       " Position(account='DU958080', contract=Contract(secType='STK', conId=306081855, symbol='DHCP', exchange='NYSE', currency='USD', localSymbol='DHCP', tradingClass='DHCP'), position=500.0, avgCost=10.505),\n",
       " Position(account='DU958080', contract=Contract(secType='STK', conId=35359385, symbol='BIDU', exchange='NASDAQ', currency='USD', localSymbol='BIDU', tradingClass='NMS'), position=100.0, avgCost=236.24),\n",
       " Position(account='DU958080', contract=Contract(secType='STK', conId=225590118, symbol='UA', exchange='NYSE', currency='USD', localSymbol='UA', tradingClass='UA'), position=-1000.0, avgCost=15.2845278),\n",
       " Position(account='DU958080', contract=Contract(secType='STK', conId=756733, symbol='SPY', exchange='ARCA', currency='USD', localSymbol='SPY', tradingClass='SPY'), position=1200.0, avgCost=269.9975),\n",
       " Position(account='DU958080', contract=Contract(secType='STK', conId=92950764, symbol='KMPR', exchange='NYSE', currency='USD', localSymbol='KMPR', tradingClass='KMPR'), position=400.0, avgCost=55.805),\n",
       " Position(account='DU958080', contract=Contract(secType='STK', conId=11017, symbol='PEP', exchange='NASDAQ', currency='USD', localSymbol='PEP', tradingClass='NMS'), position=300.0, avgCost=111.905),\n",
       " Position(account='DU958080', contract=Contract(secType='STK', conId=166090175, symbol='BABA', exchange='NYSE', currency='USD', localSymbol='BABA', tradingClass='BABA'), position=200.0, avgCost=174.005),\n",
       " Position(account='DU958080', contract=Contract(secType='STK', conId=105068604, symbol='WMIH', exchange='NASDAQ', currency='USD', localSymbol='WMIH', tradingClass='SCM'), position=5000.0, avgCost=1.255),\n",
       " Position(account='DU958089', contract=Contract(secType='STK', conId=107113386, symbol='FB', exchange='NASDAQ', currency='USD', localSymbol='FB', tradingClass='NMS'), position=200.0, avgCost=176.44),\n",
       " Position(account='DU958089', contract=Contract(secType='STK', conId=3691937, symbol='AMZN', exchange='NASDAQ', currency='USD', localSymbol='AMZN', tradingClass='NMS'), position=100.0, avgCost=1407.51),\n",
       " Position(account='DU774252', contract=Contract(secType='CASH', conId=12087792, symbol='EUR', currency='USD', localSymbol='EUR.USD', tradingClass='EUR.USD'), position=100000.0, avgCost=1.1837937),\n",
       " Position(account='DU774252', contract=Contract(secType='STK', conId=265598, symbol='AAPL', exchange='NASDAQ', currency='USD', localSymbol='AAPL', tradingClass='NMS'), position=21917.0, avgCost=164.7965283),\n",
       " Position(account='DU813164', contract=Contract(secType='STK', conId=3691937, symbol='AMZN', exchange='NASDAQ', currency='USD', localSymbol='AMZN', tradingClass='NMS'), position=100.0, avgCost=948.355),\n",
       " Position(account='DU813164', contract=Contract(secType='STK', conId=166090175, symbol='BABA', exchange='NYSE', currency='USD', localSymbol='BABA', tradingClass='BABA'), position=-200.0, avgCost=170.16345),\n",
       " Position(account='DU813162', contract=Contract(secType='STK', conId=15468463, symbol='GOLD', exchange='NASDAQ', currency='USD', localSymbol='GOLD', tradingClass='NMS'), position=5001.0, avgCost=98.3463957),\n",
       " Position(account='DU813162', contract=Contract(secType='STK', conId=13272, symbol='UNH', exchange='NYSE', currency='USD', localSymbol='UNH', tradingClass='UNH'), position=-100.0, avgCost=192.325438),\n",
       " Position(account='DU813162', contract=Contract(secType='STK', conId=208813720, symbol='GOOG', exchange='NASDAQ', currency='USD', localSymbol='GOOG', tradingClass='NMS'), position=-200.0, avgCost=951.872892)]"
      ]
     },
     "execution_count": 18,
     "metadata": {},
     "output_type": "execute_result"
    }
   ],
   "source": [
    "ib.positions()"
   ]
  },
  {
   "cell_type": "markdown",
   "metadata": {
    "collapsed": true
   },
   "source": [
    "What's the total of commissions paid today?"
   ]
  },
  {
   "cell_type": "code",
   "execution_count": 19,
   "metadata": {},
   "outputs": [
    {
     "data": {
      "text/plain": [
       "0"
      ]
     },
     "execution_count": 19,
     "metadata": {},
     "output_type": "execute_result"
    }
   ],
   "source": [
    "sum(fill.commissionReport.commission for fill in ib.fills())"
   ]
  },
  {
   "cell_type": "markdown",
   "metadata": {
    "collapsed": true
   },
   "source": [
    "whatIfOrder can be used to see the commission and the margin impact of an order without actually sending the order:"
   ]
  },
  {
   "cell_type": "code",
   "execution_count": 20,
   "metadata": {},
   "outputs": [
    {
     "data": {
      "text/plain": [
       "OrderState(status='PreSubmitted', initMargin='450357.7', maintMargin='411864.39', equityWithLoan='1402339.82', minCommission=1.265372, maxCommission=1.505372, commissionCurrency='USD')"
      ]
     },
     "execution_count": 20,
     "metadata": {},
     "output_type": "execute_result"
    }
   ],
   "source": [
    "order = MarketOrder('SELL', 200)\n",
    "ib.whatIfOrder(contract, order)"
   ]
  },
  {
   "cell_type": "code",
   "execution_count": 21,
   "metadata": {},
   "outputs": [],
   "source": [
    "ib.disconnect()"
   ]
  },
  {
   "cell_type": "markdown",
   "metadata": {},
   "source": [
    "***"
   ]
  }
 ],
 "metadata": {
  "kernelspec": {
   "display_name": "Python 3",
   "language": "python",
   "name": "python3"
  },
  "language_info": {
   "codemirror_mode": {
    "name": "ipython",
    "version": 3
   },
   "file_extension": ".py",
   "mimetype": "text/x-python",
   "name": "python",
   "nbconvert_exporter": "python",
   "pygments_lexer": "ipython3",
   "version": "3.6.4"
  }
 },
 "nbformat": 4,
 "nbformat_minor": 2
}
