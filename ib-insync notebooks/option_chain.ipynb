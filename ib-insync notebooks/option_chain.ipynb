{
 "cells": [
  {
   "cell_type": "markdown",
   "metadata": {},
   "source": [
    "Option chains\n",
    "======="
   ]
  },
  {
   "cell_type": "code",
   "execution_count": 1,
   "metadata": {
    "scrolled": true
   },
   "outputs": [
    {
     "name": "stderr",
     "output_type": "stream",
     "text": [
      "ERROR:ib_insync.wrapper:Error 321, reqId 1: Error validating request:-'aS' : cause - ALL account is not supported\n"
     ]
    },
    {
     "data": {
      "text/plain": [
       "<IB connected to 127.0.0.1:4002 clientId=3>"
      ]
     },
     "execution_count": 1,
     "metadata": {},
     "output_type": "execute_result"
    }
   ],
   "source": [
    "from ib_insync import *\n",
    "util.startLoop()\n",
    "\n",
    "ib = IB()\n",
    "ib.connect('127.0.0.1', 4002, clientId=3)"
   ]
  },
  {
   "cell_type": "markdown",
   "metadata": {},
   "source": [
    "Suppose we want to find the options on the SPY. There are two ways to do that:\n",
    "* The old way by requesting contract details\n",
    "* The new and faster way\n",
    "\n",
    "So first the old way. It starts with an ambiguous Option contract and uses that\n",
    "as a wildcard to get the details of all contracts that match:\n",
    "\n",
    "** This will take a while **"
   ]
  },
  {
   "cell_type": "markdown",
   "metadata": {
    "heading_collapsed": true
   },
   "source": [
    "### Old Way"
   ]
  },
  {
   "cell_type": "code",
   "execution_count": 8,
   "metadata": {
    "hidden": true
   },
   "outputs": [
    {
     "name": "stdout",
     "output_type": "stream",
     "text": [
      "978\n"
     ]
    },
    {
     "data": {
      "text/plain": [
       "Contract(secType='OPT', conId=247623427, symbol='IBM', lastTradeDateOrContractMonth='20190118', strike=115.0, right='C', multiplier='100', exchange='SMART', currency='USD', localSymbol='IBM   190118C00115000', tradingClass='IBM')"
      ]
     },
     "execution_count": 8,
     "metadata": {},
     "output_type": "execute_result"
    }
   ],
   "source": [
    "option = Option('IBM', exchange='SMART')\n",
    "cds = ib.reqContractDetails(option)\n",
    "\n",
    "contracts = [cd.summary for cd in cds]\n",
    "\n",
    "print(len(contracts))\n",
    "contracts[0]"
   ]
  },
  {
   "cell_type": "markdown",
   "metadata": {
    "hidden": true
   },
   "source": [
    "So that's a few thousand contracts. Let's put in some restrictions to get this number down:\n",
    "\n",
    "* Use only the first 3 expirations after today that are on a Friday\n",
    "* Use only strike prices within +- 20 dollar of the current SPY market price\n",
    "* Use only strike prices that are a multitude of 5 dollar\n",
    "\n",
    "For the first restriction the expirations are filtered with an isFriday method,\n",
    "made unique with set(), then sorted and finally the first 3 taken:"
   ]
  },
  {
   "cell_type": "code",
   "execution_count": 9,
   "metadata": {
    "hidden": true
   },
   "outputs": [
    {
     "data": {
      "text/plain": [
       "['20180629', '20180706', '20180713']"
      ]
     },
     "execution_count": 9,
     "metadata": {},
     "output_type": "execute_result"
    }
   ],
   "source": [
    "import datetime\n",
    "\n",
    "def isFriday(date):\n",
    "    y = int(date[0:4])\n",
    "    m = int(date[4:6])\n",
    "    d = int(date[6:8])\n",
    "    dd = datetime.date(y, m, d)\n",
    "    return dd.weekday() == 4 and dd > datetime.date.today()\n",
    "\n",
    "expirations = sorted(set(c.lastTradeDateOrContractMonth for c in contracts\n",
    "            if isFriday(c.lastTradeDateOrContractMonth)))[:3]\n",
    "\n",
    "expirations"
   ]
  },
  {
   "cell_type": "markdown",
   "metadata": {
    "hidden": true
   },
   "source": [
    "Hmmm... perhaps we could have just taken the next three Fridays?\n",
    "But the number of contracts is going down nicely:"
   ]
  },
  {
   "cell_type": "code",
   "execution_count": 10,
   "metadata": {
    "hidden": true
   },
   "outputs": [
    {
     "name": "stdout",
     "output_type": "stream",
     "text": [
      "214\n"
     ]
    }
   ],
   "source": [
    "contracts = [c for c in contracts if c.lastTradeDateOrContractMonth in expirations]\n",
    "\n",
    "print(len(contracts))"
   ]
  },
  {
   "cell_type": "markdown",
   "metadata": {
    "hidden": true
   },
   "source": [
    "To get the current price, first create the SPY contract:"
   ]
  },
  {
   "cell_type": "code",
   "execution_count": 17,
   "metadata": {
    "hidden": true
   },
   "outputs": [
    {
     "data": {
      "text/plain": [
       "[Stock(conId=8314, symbol='IBM', exchange='SMART', primaryExchange='NYSE', currency='USD', localSymbol='IBM', tradingClass='IBM')]"
      ]
     },
     "execution_count": 17,
     "metadata": {},
     "output_type": "execute_result"
    }
   ],
   "source": [
    "ibm = Stock('IBM', exchange='SMART', primaryExchange='NYSE')\n",
    "\n",
    "ib.qualifyContracts(ibm)"
   ]
  },
  {
   "cell_type": "markdown",
   "metadata": {
    "hidden": true
   },
   "source": [
    "Then get the ticker. Requesting a ticker can take up to 11 seconds."
   ]
  },
  {
   "cell_type": "code",
   "execution_count": 18,
   "metadata": {
    "hidden": true
   },
   "outputs": [
    {
     "data": {
      "text/plain": [
       "Ticker(contract=Stock(conId=8314, symbol='IBM', exchange='SMART', primaryExchange='NYSE', currency='USD', localSymbol='IBM', tradingClass='IBM'), time=datetime.datetime(2018, 6, 22, 5, 25, 33, 398320, tzinfo=datetime.timezone.utc), bid=-1.0, bidSize=0, ask=-1.0, askSize=0, close=141.25, ticks=[], tickByTicks=[], domBids=[], domAsks=[], domTicks=[])"
      ]
     },
     "execution_count": 18,
     "metadata": {},
     "output_type": "execute_result"
    }
   ],
   "source": [
    "[ticker] = ib.reqTickers(ibm)\n",
    "\n",
    "ticker"
   ]
  },
  {
   "cell_type": "markdown",
   "metadata": {
    "hidden": true
   },
   "source": [
    "Apply the final two restrictions:"
   ]
  },
  {
   "cell_type": "code",
   "execution_count": 19,
   "metadata": {
    "hidden": true
   },
   "outputs": [
    {
     "data": {
      "text/plain": [
       "141.25"
      ]
     },
     "execution_count": 19,
     "metadata": {},
     "output_type": "execute_result"
    }
   ],
   "source": [
    "ticker.marketPrice()"
   ]
  },
  {
   "cell_type": "code",
   "execution_count": 20,
   "metadata": {
    "hidden": true
   },
   "outputs": [
    {
     "name": "stdout",
     "output_type": "stream",
     "text": [
      "48\n",
      "Contract(secType='OPT', conId=317355679, symbol='IBM', lastTradeDateOrContractMonth='20180629', strike=130.0, right='C', multiplier='100', exchange='SMART', currency='USD', localSymbol='IBM   180629C00130000', tradingClass='IBM')\n"
     ]
    }
   ],
   "source": [
    "ibmPrice = ticker.marketPrice()\n",
    "\n",
    "contracts = [c for c in contracts if\n",
    "             ibmPrice - 20 < c.strike < ibmPrice + 20 and\n",
    "             c.strike % 5 == 0]\n",
    "\n",
    "print(len(contracts))\n",
    "print(contracts[0])\n",
    "\n",
    "oldContracts = contracts  # remember for later"
   ]
  },
  {
   "cell_type": "markdown",
   "metadata": {
    "heading_collapsed": true
   },
   "source": [
    "### New Way"
   ]
  },
  {
   "cell_type": "markdown",
   "metadata": {
    "hidden": true
   },
   "source": [
    "Finally we have a list of usable option contracts.\n",
    "\n",
    "Okay so now the new and faster way:"
   ]
  },
  {
   "cell_type": "code",
   "execution_count": 22,
   "metadata": {
    "hidden": true,
    "scrolled": true
   },
   "outputs": [
    {
     "data": {
      "text/html": [
       "<div>\n",
       "<style scoped>\n",
       "    .dataframe tbody tr th:only-of-type {\n",
       "        vertical-align: middle;\n",
       "    }\n",
       "\n",
       "    .dataframe tbody tr th {\n",
       "        vertical-align: top;\n",
       "    }\n",
       "\n",
       "    .dataframe thead th {\n",
       "        text-align: right;\n",
       "    }\n",
       "</style>\n",
       "<table border=\"1\" class=\"dataframe\">\n",
       "  <thead>\n",
       "    <tr style=\"text-align: right;\">\n",
       "      <th></th>\n",
       "      <th>exchange</th>\n",
       "      <th>underlyingConId</th>\n",
       "      <th>tradingClass</th>\n",
       "      <th>multiplier</th>\n",
       "      <th>expirations</th>\n",
       "      <th>strikes</th>\n",
       "    </tr>\n",
       "  </thead>\n",
       "  <tbody>\n",
       "    <tr>\n",
       "      <th>0</th>\n",
       "      <td>NASDAQOM</td>\n",
       "      <td>8314</td>\n",
       "      <td>IBM</td>\n",
       "      <td>100</td>\n",
       "      <td>{20180720, 20180921, 20181116, 20180629, 20180...</td>\n",
       "      <td>{128.0, 129.0, 130.0, 131.0, 132.0, 133.0, 134...</td>\n",
       "    </tr>\n",
       "    <tr>\n",
       "      <th>1</th>\n",
       "      <td>PSE</td>\n",
       "      <td>8314</td>\n",
       "      <td>IBM</td>\n",
       "      <td>100</td>\n",
       "      <td>{20180720, 20180921, 20181116, 20180629, 20180...</td>\n",
       "      <td>{128.0, 129.0, 130.0, 131.0, 132.0, 133.0, 134...</td>\n",
       "    </tr>\n",
       "    <tr>\n",
       "      <th>2</th>\n",
       "      <td>PHLX</td>\n",
       "      <td>8314</td>\n",
       "      <td>IBM</td>\n",
       "      <td>100</td>\n",
       "      <td>{20180720, 20180921, 20181116, 20180629, 20180...</td>\n",
       "      <td>{128.0, 129.0, 130.0, 131.0, 132.0, 133.0, 134...</td>\n",
       "    </tr>\n",
       "    <tr>\n",
       "      <th>3</th>\n",
       "      <td>BOX</td>\n",
       "      <td>8314</td>\n",
       "      <td>IBM</td>\n",
       "      <td>100</td>\n",
       "      <td>{20180720, 20180921, 20181116, 20180629, 20180...</td>\n",
       "      <td>{128.0, 129.0, 130.0, 131.0, 132.0, 133.0, 134...</td>\n",
       "    </tr>\n",
       "    <tr>\n",
       "      <th>4</th>\n",
       "      <td>PEARL</td>\n",
       "      <td>8314</td>\n",
       "      <td>IBM</td>\n",
       "      <td>100</td>\n",
       "      <td>{20180720, 20180921, 20181116, 20180629, 20180...</td>\n",
       "      <td>{128.0, 129.0, 130.0, 131.0, 132.0, 133.0, 134...</td>\n",
       "    </tr>\n",
       "    <tr>\n",
       "      <th>5</th>\n",
       "      <td>CBOE2</td>\n",
       "      <td>8314</td>\n",
       "      <td>IBM</td>\n",
       "      <td>100</td>\n",
       "      <td>{20180720, 20180921, 20181116, 20180629, 20180...</td>\n",
       "      <td>{128.0, 129.0, 130.0, 131.0, 132.0, 133.0, 134...</td>\n",
       "    </tr>\n",
       "    <tr>\n",
       "      <th>6</th>\n",
       "      <td>EDGX</td>\n",
       "      <td>8314</td>\n",
       "      <td>IBM</td>\n",
       "      <td>100</td>\n",
       "      <td>{20180720, 20180921, 20181116, 20180629, 20180...</td>\n",
       "      <td>{128.0, 129.0, 130.0, 131.0, 132.0, 133.0, 134...</td>\n",
       "    </tr>\n",
       "    <tr>\n",
       "      <th>7</th>\n",
       "      <td>GEMINI</td>\n",
       "      <td>8314</td>\n",
       "      <td>IBM</td>\n",
       "      <td>100</td>\n",
       "      <td>{20180720, 20180921, 20181116, 20180629, 20180...</td>\n",
       "      <td>{128.0, 129.0, 130.0, 131.0, 132.0, 133.0, 134...</td>\n",
       "    </tr>\n",
       "    <tr>\n",
       "      <th>8</th>\n",
       "      <td>MERCURY</td>\n",
       "      <td>8314</td>\n",
       "      <td>IBM</td>\n",
       "      <td>100</td>\n",
       "      <td>{20180720, 20180921, 20181116, 20180629, 20180...</td>\n",
       "      <td>{128.0, 129.0, 130.0, 131.0, 132.0, 133.0, 134...</td>\n",
       "    </tr>\n",
       "    <tr>\n",
       "      <th>9</th>\n",
       "      <td>MIAX</td>\n",
       "      <td>8314</td>\n",
       "      <td>IBM</td>\n",
       "      <td>100</td>\n",
       "      <td>{20180720, 20180921, 20181116, 20180629, 20180...</td>\n",
       "      <td>{128.0, 129.0, 130.0, 131.0, 132.0, 133.0, 134...</td>\n",
       "    </tr>\n",
       "    <tr>\n",
       "      <th>10</th>\n",
       "      <td>CBOE</td>\n",
       "      <td>8314</td>\n",
       "      <td>IBM</td>\n",
       "      <td>100</td>\n",
       "      <td>{20180720, 20180921, 20181116, 20180629, 20180...</td>\n",
       "      <td>{128.0, 129.0, 130.0, 131.0, 132.0, 133.0, 134...</td>\n",
       "    </tr>\n",
       "    <tr>\n",
       "      <th>11</th>\n",
       "      <td>NASDAQBX</td>\n",
       "      <td>8314</td>\n",
       "      <td>IBM</td>\n",
       "      <td>100</td>\n",
       "      <td>{20180720, 20180921, 20181116, 20180629, 20180...</td>\n",
       "      <td>{128.0, 129.0, 130.0, 131.0, 132.0, 133.0, 134...</td>\n",
       "    </tr>\n",
       "    <tr>\n",
       "      <th>12</th>\n",
       "      <td>ISE</td>\n",
       "      <td>8314</td>\n",
       "      <td>IBM</td>\n",
       "      <td>100</td>\n",
       "      <td>{20180720, 20180921, 20181116, 20180629, 20180...</td>\n",
       "      <td>{128.0, 129.0, 130.0, 131.0, 132.0, 133.0, 134...</td>\n",
       "    </tr>\n",
       "    <tr>\n",
       "      <th>13</th>\n",
       "      <td>BATS</td>\n",
       "      <td>8314</td>\n",
       "      <td>IBM</td>\n",
       "      <td>100</td>\n",
       "      <td>{20180720, 20180921, 20181116, 20180629, 20180...</td>\n",
       "      <td>{128.0, 129.0, 130.0, 131.0, 132.0, 133.0, 134...</td>\n",
       "    </tr>\n",
       "    <tr>\n",
       "      <th>14</th>\n",
       "      <td>AMEX</td>\n",
       "      <td>8314</td>\n",
       "      <td>IBM</td>\n",
       "      <td>100</td>\n",
       "      <td>{20180720, 20180921, 20181116, 20180629, 20180...</td>\n",
       "      <td>{128.0, 129.0, 130.0, 131.0, 132.0, 133.0, 134...</td>\n",
       "    </tr>\n",
       "    <tr>\n",
       "      <th>15</th>\n",
       "      <td>SMART</td>\n",
       "      <td>8314</td>\n",
       "      <td>IBM</td>\n",
       "      <td>100</td>\n",
       "      <td>{20180720, 20180921, 20181116, 20180629, 20180...</td>\n",
       "      <td>{128.0, 129.0, 130.0, 131.0, 132.0, 133.0, 134...</td>\n",
       "    </tr>\n",
       "  </tbody>\n",
       "</table>\n",
       "</div>"
      ],
      "text/plain": [
       "    exchange  underlyingConId tradingClass multiplier  \\\n",
       "0   NASDAQOM             8314          IBM        100   \n",
       "1        PSE             8314          IBM        100   \n",
       "2       PHLX             8314          IBM        100   \n",
       "3        BOX             8314          IBM        100   \n",
       "4      PEARL             8314          IBM        100   \n",
       "5      CBOE2             8314          IBM        100   \n",
       "6       EDGX             8314          IBM        100   \n",
       "7     GEMINI             8314          IBM        100   \n",
       "8    MERCURY             8314          IBM        100   \n",
       "9       MIAX             8314          IBM        100   \n",
       "10      CBOE             8314          IBM        100   \n",
       "11  NASDAQBX             8314          IBM        100   \n",
       "12       ISE             8314          IBM        100   \n",
       "13      BATS             8314          IBM        100   \n",
       "14      AMEX             8314          IBM        100   \n",
       "15     SMART             8314          IBM        100   \n",
       "\n",
       "                                          expirations  \\\n",
       "0   {20180720, 20180921, 20181116, 20180629, 20180...   \n",
       "1   {20180720, 20180921, 20181116, 20180629, 20180...   \n",
       "2   {20180720, 20180921, 20181116, 20180629, 20180...   \n",
       "3   {20180720, 20180921, 20181116, 20180629, 20180...   \n",
       "4   {20180720, 20180921, 20181116, 20180629, 20180...   \n",
       "5   {20180720, 20180921, 20181116, 20180629, 20180...   \n",
       "6   {20180720, 20180921, 20181116, 20180629, 20180...   \n",
       "7   {20180720, 20180921, 20181116, 20180629, 20180...   \n",
       "8   {20180720, 20180921, 20181116, 20180629, 20180...   \n",
       "9   {20180720, 20180921, 20181116, 20180629, 20180...   \n",
       "10  {20180720, 20180921, 20181116, 20180629, 20180...   \n",
       "11  {20180720, 20180921, 20181116, 20180629, 20180...   \n",
       "12  {20180720, 20180921, 20181116, 20180629, 20180...   \n",
       "13  {20180720, 20180921, 20181116, 20180629, 20180...   \n",
       "14  {20180720, 20180921, 20181116, 20180629, 20180...   \n",
       "15  {20180720, 20180921, 20181116, 20180629, 20180...   \n",
       "\n",
       "                                              strikes  \n",
       "0   {128.0, 129.0, 130.0, 131.0, 132.0, 133.0, 134...  \n",
       "1   {128.0, 129.0, 130.0, 131.0, 132.0, 133.0, 134...  \n",
       "2   {128.0, 129.0, 130.0, 131.0, 132.0, 133.0, 134...  \n",
       "3   {128.0, 129.0, 130.0, 131.0, 132.0, 133.0, 134...  \n",
       "4   {128.0, 129.0, 130.0, 131.0, 132.0, 133.0, 134...  \n",
       "5   {128.0, 129.0, 130.0, 131.0, 132.0, 133.0, 134...  \n",
       "6   {128.0, 129.0, 130.0, 131.0, 132.0, 133.0, 134...  \n",
       "7   {128.0, 129.0, 130.0, 131.0, 132.0, 133.0, 134...  \n",
       "8   {128.0, 129.0, 130.0, 131.0, 132.0, 133.0, 134...  \n",
       "9   {128.0, 129.0, 130.0, 131.0, 132.0, 133.0, 134...  \n",
       "10  {128.0, 129.0, 130.0, 131.0, 132.0, 133.0, 134...  \n",
       "11  {128.0, 129.0, 130.0, 131.0, 132.0, 133.0, 134...  \n",
       "12  {128.0, 129.0, 130.0, 131.0, 132.0, 133.0, 134...  \n",
       "13  {128.0, 129.0, 130.0, 131.0, 132.0, 133.0, 134...  \n",
       "14  {128.0, 129.0, 130.0, 131.0, 132.0, 133.0, 134...  \n",
       "15  {128.0, 129.0, 130.0, 131.0, 132.0, 133.0, 134...  "
      ]
     },
     "execution_count": 22,
     "metadata": {},
     "output_type": "execute_result"
    }
   ],
   "source": [
    "chains = ib.reqSecDefOptParams(ibm.symbol, '', ibm.secType, ibm.conId)\n",
    "\n",
    "util.df(chains)"
   ]
  },
  {
   "cell_type": "markdown",
   "metadata": {
    "hidden": true
   },
   "source": [
    "We want the options that trade on SMART:"
   ]
  },
  {
   "cell_type": "code",
   "execution_count": 23,
   "metadata": {
    "hidden": true
   },
   "outputs": [
    {
     "data": {
      "text/plain": [
       "OptionChain(exchange='SMART', underlyingConId=8314, tradingClass='IBM', multiplier='100', expirations={'20180720', '20180921', '20181116', '20180629', '20180817', '20180713', '20180727', '20190118', '20180622', '20180803', '20181019', '20181221', '20200117', '20180706', '20190621'}, strikes={128.0, 129.0, 130.0, 131.0, 132.0, 133.0, 134.0, 135.0, 136.0, 137.0, 138.0, 139.0, 140.0, 141.0, 142.0, 143.0, 144.0, 145.0, 146.0, 147.0, 148.0, 149.0, 150.0, 152.5, 155.0, 157.5, 160.0, 162.5, 165.0, 167.5, 170.0, 172.5, 175.0, 180.0, 185.0, 190.0, 195.0, 200.0, 75.0, 205.0, 80.0, 210.0, 85.0, 215.0, 90.0, 220.0, 95.0, 225.0, 100.0, 230.0, 105.0, 250.0, 235.0, 110.0, 240.0, 115.0, 120.0, 121.0, 122.0, 123.0, 124.0, 125.0, 126.0, 127.0})"
      ]
     },
     "execution_count": 23,
     "metadata": {},
     "output_type": "execute_result"
    }
   ],
   "source": [
    "chain = next(c for c in chains if c.exchange == 'SMART')\n",
    "chain"
   ]
  },
  {
   "cell_type": "markdown",
   "metadata": {
    "hidden": true
   },
   "source": [
    "What we have here is a matrix of expirations x strikes. From this we can build all the contracts:"
   ]
  },
  {
   "cell_type": "code",
   "execution_count": 24,
   "metadata": {
    "hidden": true
   },
   "outputs": [
    {
     "name": "stdout",
     "output_type": "stream",
     "text": [
      "48\n",
      "\n",
      "Option(conId=317356108, symbol='IBM', lastTradeDateOrContractMonth='20180629', strike=130.0, right='P', multiplier='100', exchange='SMART', currency='USD', localSymbol='IBM   180629P00130000', tradingClass='IBM')\n"
     ]
    }
   ],
   "source": [
    "strikes = [strike for strike in chain.strikes if\n",
    "           strike % 5 == 0 and\n",
    "           ibmPrice - 20 < strike < ibmPrice + 20]\n",
    "expirations = sorted(exp for exp in chain.expirations if isFriday(exp))[:3]\n",
    "rights = ['P', 'C']\n",
    "\n",
    "contracts = [Option('IBM', expiration, strike, right, 'SMART')\n",
    "             for right in rights for expiration in expirations for strike in strikes]\n",
    "\n",
    "ib.qualifyContracts(*contracts)\n",
    "\n",
    "print(len(contracts))\n",
    "print()\n",
    "print(contracts[0])"
   ]
  },
  {
   "cell_type": "markdown",
   "metadata": {
    "hidden": true
   },
   "source": [
    "Let's see if the new way ends up with the same contracts as the old way:"
   ]
  },
  {
   "cell_type": "code",
   "execution_count": 25,
   "metadata": {
    "hidden": true
   },
   "outputs": [
    {
     "data": {
      "text/plain": [
       "True"
      ]
     },
     "execution_count": 25,
     "metadata": {},
     "output_type": "execute_result"
    }
   ],
   "source": [
    "set(contracts) == set(oldContracts)"
   ]
  },
  {
   "cell_type": "markdown",
   "metadata": {
    "hidden": true
   },
   "source": [
    "Yep. Now to get the market data for all options in one go:"
   ]
  },
  {
   "cell_type": "code",
   "execution_count": 26,
   "metadata": {
    "hidden": true
   },
   "outputs": [
    {
     "data": {
      "text/plain": [
       "Ticker(contract=Option(conId=317356108, symbol='IBM', lastTradeDateOrContractMonth='20180629', strike=130.0, right='P', multiplier='100', exchange='SMART', currency='USD', localSymbol='IBM   180629P00130000', tradingClass='IBM'), time=datetime.datetime(2018, 6, 22, 5, 30, 47, 520558, tzinfo=datetime.timezone.utc), bid=-1.0, bidSize=0, ask=-1.0, askSize=0, close=0.03, ticks=[], tickByTicks=[], domBids=[], domAsks=[], domTicks=[])"
      ]
     },
     "execution_count": 26,
     "metadata": {},
     "output_type": "execute_result"
    }
   ],
   "source": [
    "tickers = ib.reqTickers(*contracts)\n",
    "\n",
    "tickers[0]"
   ]
  },
  {
   "cell_type": "markdown",
   "metadata": {
    "hidden": true
   },
   "source": [
    "The option greeks are available from the ``modelGreeks`` attribute, and if there is a bid, ask resp. last price available also from ``bidGreeks``, ``askGreeks`` and ``lastGreeks``. For streaming ticks the greek values will be kept up to date to the current market situation."
   ]
  },
  {
   "cell_type": "markdown",
   "metadata": {
    "hidden": true
   },
   "source": [
    "***"
   ]
  }
 ],
 "metadata": {
  "kernelspec": {
   "display_name": "Python 3",
   "language": "python",
   "name": "python3"
  },
  "language_info": {
   "codemirror_mode": {
    "name": "ipython",
    "version": 3
   },
   "file_extension": ".py",
   "mimetype": "text/x-python",
   "name": "python",
   "nbconvert_exporter": "python",
   "pygments_lexer": "ipython3",
   "version": "3.6.4"
  }
 },
 "nbformat": 4,
 "nbformat_minor": 2
}
